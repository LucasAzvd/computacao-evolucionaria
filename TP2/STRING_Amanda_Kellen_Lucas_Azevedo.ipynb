{
 "cells": [
  {
   "cell_type": "markdown",
   "id": "64fb4e6e-3cc2-4c5b-b98c-46bbbe9676ff",
   "metadata": {},
   "source": [
    "# Computação Evolucionária\n",
    "## Trabalho Prático 1\n",
    "Amanda Kellen Soares de Pinho - 2017098188\n",
    "\n",
    "Lucas Araujo Azevedo - 2017104188"
   ]
  },
  {
   "cell_type": "markdown",
   "id": "abb8d84c-f79b-4f7c-b3ff-616102e61570",
   "metadata": {},
   "source": [
    "# Questão 1\n",
    "## a)\n",
    "\n",
    "Para calcular a probabilidade temos que cada caracter da string alvo tenha `26+1` chances que cair corretamente (26 maiúsculas letras no alfabeto e maiúsculas, 1 caracter de espaço). Temos que para cada letra um total de 53  possíveis opções. Para que nossa frase seja exatamente igual na primeira tentativa temos a seguinte cáculo: 1/(53^28), sendo 28 a nossa quantidade de caracteres o que nos resulta em uma probabilidade de **1/4161536836220038342098551818958537752576** que é igual a **2.402958424629275e-40%**.\n",
    "\n",
    "## b)\n",
    "\n",
    "O algoritmo genético supera essa probabilidade por conta que ele corta o espaço de probabilidade de letras, então ele vai decrescendo essa probabilidade (ele vai evoluindo a cada interação), com essa diminuição do espaço possível para os caracteres ele converje mais rapidamente.\n",
    "\n",
    "## c)\n",
    "\n",
    "Para trabalhar com as letras mapearemos nosso univerço codificando cada letra um número."
   ]
  },
  {
   "cell_type": "code",
   "execution_count": 8,
   "id": "b47f4527-4dc4-451a-809b-a8289cf9790f",
   "metadata": {},
   "outputs": [],
   "source": [
    "import numpy as np\n",
    "import pandas as pd\n",
    "import random\n",
    "import math\n",
    "\n",
    "np.random.seed(42)"
   ]
  },
  {
   "cell_type": "code",
   "execution_count": 9,
   "id": "a3d9de07-d06b-4261-b596-5aefc68a3fdd",
   "metadata": {},
   "outputs": [],
   "source": [
    "universo = {\"A\": 1, \"B\": 2, \"C\": 3, \"D\": 4, \"E\": 5,\n",
    "            \"F\": 6, \"G\": 7, \"H\": 8, \"I\": 9, \"J\": 10,\n",
    "            \"K\": 11, \"L\": 12, \"M\": 13, \"N\": 14, \"O\": 15,\n",
    "            \"P\": 16, \"Q\": 17, \"R\": 18, \"S\": 19, \"T\": 20,\n",
    "            \"U\": 21, \"V\": 22, \"W\": 23, \"X\": 24, \"Y\": 25, \n",
    "            \"Z\": 26, \"*\": 27}\n",
    "inv_universo = {v: k for k, v in universo.items()}"
   ]
  },
  {
   "cell_type": "code",
   "execution_count": 10,
   "id": "d3e89e97-747c-45d2-bb9b-20d72f5010ed",
   "metadata": {},
   "outputs": [],
   "source": [
    "def gen_individuo():\n",
    "    return random.randint(1, 27)"
   ]
  },
  {
   "cell_type": "markdown",
   "id": "83a3350b-724b-40ce-988b-1f922f871729",
   "metadata": {},
   "source": [
    "# Operadores de Variação\n",
    "\n",
    "## Mutation\n",
    "\n",
    "Na nossa função de mutation recebe a porcentagem de mutação e multiplica pelo tamanho da nossa frase (27) gerando uma nova amostra com a quantidade de intens solicitados"
   ]
  },
  {
   "cell_type": "code",
   "execution_count": 11,
   "id": "6c32a74f-61c7-4afc-9cc7-c9f9eb33c206",
   "metadata": {},
   "outputs": [],
   "source": [
    "def mutation(size_of_mutation):\n",
    "    new_part = [gen_individuo() for x in range(0, size_of_mutation)]\n",
    "    return new_part"
   ]
  },
  {
   "cell_type": "markdown",
   "id": "9f2deab8-0120-443f-a066-82ec431029ab",
   "metadata": {},
   "source": [
    "# Execução do algoritmo"
   ]
  },
  {
   "cell_type": "code",
   "execution_count": 29,
   "id": "a03affaa-54fb-418d-b5e2-c9d10833565b",
   "metadata": {},
   "outputs": [],
   "source": [
    "def gen_frase():\n",
    "    frase = []\n",
    "    num_frase = []\n",
    "    for i in range(0, 27):\n",
    "        frase.append(inv_universo[gen_individuo()])\n",
    "        num_frase.append(gen_individuo())\n",
    "    return frase, num_frase\n",
    "\n",
    "def traduz_frase(num_frase):\n",
    "    frase_trad = [inv_universo[x] for x in num_frase]\n",
    "    return frase_trad"
   ]
  },
  {
   "cell_type": "code",
   "execution_count": 61,
   "id": "107250c4-9e2d-47d4-baf2-475756f4dc21",
   "metadata": {},
   "outputs": [],
   "source": [
    "objetivo = 'METHINKS*IT*IS*LIKE*A*WEASEL'\n",
    "objetivo = ['M', 'E', 'T', 'H', 'I', 'N', 'K', 'S', '*', \n",
    "            'I', 'T', '*', \n",
    "            'I', 'S', '*', \n",
    "            'L', 'I', 'K', 'E', '*', \n",
    "            'A', '*', \n",
    "            'W', 'E', 'A', 'S', 'E', 'L']\n",
    "num_objetivo = [universo[x] for x in objetivo]"
   ]
  },
  {
   "cell_type": "markdown",
   "id": "dd9baf48-8db9-434b-b957-36a38d9e5b2b",
   "metadata": {},
   "source": [
    "Para nosso algoritmo funcionar, iremos trabalhar com um conceito de distância que consistirá em subtrair nosso valor da string real da nossa string gerada, quanto mais próximo o valor das string, mais próxima essa distância será de zero, sendo assim nosso algoritmo poderá ser otimizado."
   ]
  },
  {
   "cell_type": "code",
   "execution_count": 88,
   "id": "b3e5e470-d76c-4e34-a95f-1e429020e015",
   "metadata": {},
   "outputs": [
    {
     "name": "stdout",
     "output_type": "stream",
     "text": [
      "Frase original:\n",
      "\tMETHINKS*IT*IS*LIKE*A*WEASEL\n",
      "Primeira frase gerada:\n",
      "\tNDDOHUBFSFFMGVNPQKXJESCGLEB\n",
      "Ultima Frase\n",
      "\tIIYJVPZGLTHSHNGEDOK*DTKZOZX\n"
     ]
    }
   ],
   "source": [
    "n_epocas = 1000\n",
    "mutation_rate = 0.5\n",
    "list_distancia = []\n",
    "list_epocas = []\n",
    "\n",
    "print(f\"Frase original:\\n\\t{''.join(objetivo)}\")\n",
    "frase, num_frase = gen_frase()\n",
    "print(f\"Primeira frase gerada:\\n\\t{''.join(frase)}\")\n",
    "\n",
    "epc=0\n",
    "while epc <= n_epocas and frase != objetivo:\n",
    "    size_mutation = int(mutation_rate*27)\n",
    "    last_i = 0 # Variavel criada para realizar mutacoes em todas as partes\n",
    "    quant_mutation = math.ceil(size_mutation/27)+1\n",
    "    for i in range(1, quant_mutation+1):\n",
    "        lim_sup = i*size_mutation\n",
    "        \n",
    "        size_mutation = len(frase[last_i:lim_sup])\n",
    "        new_part = mutation(size_mutation) \n",
    "        \n",
    "        distancia_inicial = abs(sum(num_objetivo[last_i:lim_sup]) - \n",
    "                                sum(num_frase[last_i:lim_sup]))\n",
    "        distancia_nova = abs(sum(num_objetivo[last_i:lim_sup]) - \n",
    "                             sum(new_part))\n",
    "        if distancia_nova < distancia_inicial:\n",
    "            num_frase[last_i:lim_sup] = new_part.copy()\n",
    "\n",
    "    distancia_final = abs(sum(num_objetivo) - sum(num_frase))\n",
    "    list_distancia.append(distancia_final)\n",
    "    list_epocas.append(epc)\n",
    "        #last_i = lim_sup\n",
    "    epc+=1\n",
    "    # print(''.join(traduz_frase(num_frase)))\n",
    "\n",
    "print(\"Ultima Frase\")\n",
    "print('\\t'+''.join(traduz_frase(num_frase)))"
   ]
  },
  {
   "cell_type": "code",
   "execution_count": 87,
   "id": "34da5ff9-88d8-472f-ad6e-68164caf0edc",
   "metadata": {},
   "outputs": [
    {
     "data": {
      "image/png": "[encoded data removed]",
      "text/plain": [
       "<Figure size 640x480 with 1 Axes>"
      ]
     },
     "metadata": {},
     "output_type": "display_data"
    }
   ],
   "source": [
    "import matplotlib.pyplot as plt\n",
    "\n",
    "plt.plot(list_epocas, list_distancia)\n",
    "plt.show()"
   ]
  },
  {
   "cell_type": "code",
   "execution_count": null,
   "id": "4d60ff17-3758-4346-9b48-37f30638780a",
   "metadata": {},
   "outputs": [],
   "source": []
  },
  {
   "cell_type": "code",
   "execution_count": null,
   "id": "09c6a548-fe35-48d0-8d74-cfa2903001b4",
   "metadata": {},
   "outputs": [],
   "source": []
  }
 ],
 "metadata": {
  "kernelspec": {
   "display_name": "Python 3",
   "language": "python",
   "name": "python3"
  },
  "language_info": {
   "codemirror_mode": {
    "name": "ipython",
    "version": 3
   },
   "file_extension": ".py",
   "mimetype": "text/x-python",
   "name": "python",
   "nbconvert_exporter": "python",
   "pygments_lexer": "ipython3",
   "version": "3.8.11"
  },
  "latex_envs": {
   "LaTeX_envs_menu_present": true,
   "autoclose": false,
   "autocomplete": true,
   "bibliofile": "biblio.bib",
   "cite_by": "apalike",
   "current_citInitial": 1,
   "eqLabelWithNumbers": true,
   "eqNumInitial": 1,
   "hotkeys": {
    "equation": "Ctrl-E",
    "itemize": "Ctrl-I"
   },
   "labels_anchors": false,
   "latex_user_defs": false,
   "report_style_numbering": false,
   "user_envs_cfg": false
  },
  "toc": {
   "base_numbering": 1,
   "nav_menu": {},
   "number_sections": true,
   "sideBar": true,
   "skip_h1_title": false,
   "title_cell": "Table of Contents",
   "title_sidebar": "Contents",
   "toc_cell": false,
   "toc_position": {},
   "toc_section_display": true,
   "toc_window_display": false
  },
  "varInspector": {
   "cols": {
    "lenName": 16,
    "lenType": 16,
    "lenVar": 40
   },
   "kernels_config": {
    "python": {
     "delete_cmd_postfix": "",
     "delete_cmd_prefix": "del ",
     "library": "var_list.py",
     "varRefreshCmd": "print(var_dic_list())"
    },
    "r": {
     "delete_cmd_postfix": ") ",
     "delete_cmd_prefix": "rm(",
     "library": "var_list.r",
     "varRefreshCmd": "cat(var_dic_list()) "
    }
   },
   "types_to_exclude": [
    "module",
    "function",
    "builtin_function_or_method",
    "instance",
    "_Feature"
   ],
   "window_display": false
  }
 },
 "nbformat": 4,
 "nbformat_minor": 5
}
