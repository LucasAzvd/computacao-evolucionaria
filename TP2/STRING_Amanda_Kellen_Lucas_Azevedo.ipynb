{
 "cells": [
  {
   "cell_type": "markdown",
   "id": "e174eff1",
   "metadata": {},
   "source": [
    "# \n",
    "## a)\n",
    "\n",
    "Para calcular a probabilidade temos que cada caracter da string alvo tenha `26*2+1` chances que cair corretamente (26 letras no alfabeto, 2x minúsculas e maiúsculas, 1 caracter de espaço). Temos que para cada letra um total de 53  possíveis opções. Para que nossa frase seja exatamente igual na primeira tentativa temos a seguinte cáculo: 1/(53^28), sendo 28 a nossa quantidade de caracteres o que nos resulta em uma probabilidade de **1/1904251686165483303166544735375573842653419591761** queé igual a **5.251406666802857e-47%**.\n",
    "\n",
    "## b)\n",
    "\n",
    "O algoritmo genético supera essa probabilidade por conta que ele corta o espaço de probabilidade de letras, então ele vai decrescendo essa probabilidade (ele vai evoluindo a cada interação), com essa diminuição do espaço possível para os caracteres ele converje mais rapidamente."
   ]
  },
  {
   "cell_type": "code",
   "execution_count": null,
   "id": "5a8140aa",
   "metadata": {},
   "outputs": [],
   "source": []
  }
 ],
 "metadata": {
  "kernelspec": {
   "display_name": "Python 3",
   "language": "python",
   "name": "python3"
  },
  "language_info": {
   "codemirror_mode": {
    "name": "ipython",
    "version": 3
   },
   "file_extension": ".py",
   "mimetype": "text/x-python",
   "name": "python",
   "nbconvert_exporter": "python",
   "pygments_lexer": "ipython3",
   "version": "3.8.11"
  },
  "latex_envs": {
   "LaTeX_envs_menu_present": true,
   "autoclose": false,
   "autocomplete": true,
   "bibliofile": "biblio.bib",
   "cite_by": "apalike",
   "current_citInitial": 1,
   "eqLabelWithNumbers": true,
   "eqNumInitial": 1,
   "hotkeys": {
    "equation": "Ctrl-E",
    "itemize": "Ctrl-I"
   },
   "labels_anchors": false,
   "latex_user_defs": false,
   "report_style_numbering": false,
   "user_envs_cfg": false
  },
  "toc": {
   "base_numbering": 1,
   "nav_menu": {},
   "number_sections": true,
   "sideBar": true,
   "skip_h1_title": false,
   "title_cell": "Table of Contents",
   "title_sidebar": "Contents",
   "toc_cell": false,
   "toc_position": {},
   "toc_section_display": true,
   "toc_window_display": false
  },
  "varInspector": {
   "cols": {
    "lenName": 16,
    "lenType": 16,
    "lenVar": 40
   },
   "kernels_config": {
    "python": {
     "delete_cmd_postfix": "",
     "delete_cmd_prefix": "del ",
     "library": "var_list.py",
     "varRefreshCmd": "print(var_dic_list())"
    },
    "r": {
     "delete_cmd_postfix": ") ",
     "delete_cmd_prefix": "rm(",
     "library": "var_list.r",
     "varRefreshCmd": "cat(var_dic_list()) "
    }
   },
   "types_to_exclude": [
    "module",
    "function",
    "builtin_function_or_method",
    "instance",
    "_Feature"
   ],
   "window_display": false
  }
 },
 "nbformat": 4,
 "nbformat_minor": 5
}
