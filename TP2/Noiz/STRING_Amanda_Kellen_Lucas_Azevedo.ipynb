{
 "cells": [
  {
   "cell_type": "markdown",
   "id": "64fb4e6e-3cc2-4c5b-b98c-46bbbe9676ff",
   "metadata": {},
   "source": [
    "# Computação Evolucionária\n",
    "## Trabalho Prático 1\n",
    "Amanda Kellen Soares de Pinho - 2017098188\n",
    "\n",
    "Lucas Araujo Azevedo - 2017104188"
   ]
  },
  {
   "cell_type": "markdown",
   "id": "abb8d84c-f79b-4f7c-b3ff-616102e61570",
   "metadata": {},
   "source": [
    "# Questão 1\n",
    "## a)\n",
    "\n",
    "Para calcular a probabilidade temos que cada caracter da string alvo tenha `26+1` chances que cair corretamente (26 maiúsculas letras no alfabeto e maiúsculas, 1 caracter de espaço). Temos que para cada letra um total de 53  possíveis opções. Para que nossa frase seja exatamente igual na primeira tentativa temos a seguinte cáculo: 1/(53^28), sendo 28 a nossa quantidade de caracteres o que nos resulta em uma probabilidade de **1/4161536836220038342098551818958537752576** que é igual a **2.402958424629275e-40%**.\n",
    "\n",
    "## b)\n",
    "\n",
    "O algoritmo genético supera essa probabilidade por conta que ele corta o espaço de probabilidade de letras, então ele vai decrescendo essa probabilidade (ele vai evoluindo a cada interação), com essa diminuição do espaço possível para os caracteres ele converje mais rapidamente.\n",
    "\n",
    "## c)\n",
    "\n",
    "Para trabalhar com as letras mapearemos nosso univerço codificando cada letra um número."
   ]
  },
  {
   "cell_type": "code",
   "execution_count": 1,
   "id": "b47f4527-4dc4-451a-809b-a8289cf9790f",
   "metadata": {},
   "outputs": [],
   "source": [
    "import numpy as np\n",
    "import pandas as pd\n",
    "import random\n",
    "import math\n",
    "\n",
    "np.random.seed(42)"
   ]
  },
  {
   "cell_type": "code",
   "execution_count": 2,
   "id": "a3d9de07-d06b-4261-b596-5aefc68a3fdd",
   "metadata": {},
   "outputs": [],
   "source": [
    "universo = {\"A\": 1, \"B\": 2, \"C\": 3, \"D\": 4, \"E\": 5,\n",
    "            \"F\": 6, \"G\": 7, \"H\": 8, \"I\": 9, \"J\": 10,\n",
    "            \"K\": 11, \"L\": 12, \"M\": 13, \"N\": 14, \"O\": 15,\n",
    "            \"P\": 16, \"Q\": 17, \"R\": 18, \"S\": 19, \"T\": 20,\n",
    "            \"U\": 21, \"V\": 22, \"W\": 23, \"X\": 24, \"Y\": 25, \n",
    "            \"Z\": 26, \"*\": 27}\n",
    "inv_universo = {v: k for k, v in universo.items()}"
   ]
  },
  {
   "cell_type": "code",
   "execution_count": 3,
   "id": "d3e89e97-747c-45d2-bb9b-20d72f5010ed",
   "metadata": {},
   "outputs": [],
   "source": [
    "def gen_individuo():\n",
    "    return random.randint(1, 27)"
   ]
  },
  {
   "cell_type": "markdown",
   "id": "ab4d8965-0042-4855-8fcc-1e023e4767f4",
   "metadata": {},
   "source": [
    "# 1. Solução Candidata\n",
    "\n",
    "Vamos gerar uma população de tamanho n definido pelo usuário para tentar chegar ao valor ótimo\n",
    "\n",
    "## 1.1 Gera Frase\n",
    "\n",
    "Primeiro criamos a função que gera a nossa frase"
   ]
  },
  {
   "cell_type": "code",
   "execution_count": 4,
   "id": "ad89cacf-943b-44d1-a8d5-aef7d44b4201",
   "metadata": {},
   "outputs": [],
   "source": [
    "def gen_frase():\n",
    "    frase = []\n",
    "    num_frase = []\n",
    "    for i in range(0, 27):\n",
    "        frase.append(inv_universo[gen_individuo()])\n",
    "        num_frase.append(gen_individuo())\n",
    "    return frase, num_frase\n",
    "\n",
    "def traduz_frase(num_frase):\n",
    "    frase_trad = [inv_universo[x] for x in num_frase]\n",
    "    return frase_trad"
   ]
  },
  {
   "cell_type": "markdown",
   "id": "072db5fd-46db-4fec-9e36-1123a3f13d62",
   "metadata": {},
   "source": [
    "## 1.2 Gera população\n",
    "\n",
    "Agora criamos a nossa função que gera a população:"
   ]
  },
  {
   "cell_type": "code",
   "execution_count": 5,
   "id": "1ee32159-aa1a-4076-a082-f030d33a48a4",
   "metadata": {},
   "outputs": [],
   "source": [
    "def gen_pop(n):\n",
    "    populacao = []\n",
    "    for i in range(0, n):\n",
    "        frase, num_frase = gen_frase()\n",
    "        populacao.append(num_frase)\n",
    "    return populacao"
   ]
  },
  {
   "cell_type": "markdown",
   "id": "b148133e-e71d-4e51-a765-e965ec177edf",
   "metadata": {},
   "source": [
    "# 2. Função de Aptidão\n",
    "\n",
    "A nossa função de aptidão será um calculo de distancia entre cada elemento da nossa lista, se o resultado dessa distancia for igual a 0, nossos elementos serão dados como iguais. Ao final retornamos a soma desses valores, quanto menor, mais igual será nossa frase"
   ]
  },
  {
   "cell_type": "code",
   "execution_count": 6,
   "id": "7acb94f5-eca3-4f07-8487-bdba9d095d79",
   "metadata": {},
   "outputs": [],
   "source": [
    "def calcula_distancia(num_objetivo, num_frase):\n",
    "    list_dist = []\n",
    "    for i in range(0, len(num_frase)):\n",
    "        dist = (num_objetivo[i]-num_frase[i])/num_objetivo[i]\n",
    "        list_dist.append(dist)\n",
    "    return abs(sum(list_dist))\n",
    "\n",
    "def menor_distancia(num_objetivo, list_frase):\n",
    "    min_dist = 1000000000\n",
    "    for i in list_frase:\n",
    "        dist_atual = calcula_distancia(num_objetivo, i)\n",
    "        if dist_atual < min_dist:\n",
    "            min_dist = dist_atual\n",
    "    return min_dist\n",
    "\n",
    "\n",
    "def maior_distancia(num_objetivo, list_frase):\n",
    "    max_dist = 0\n",
    "    for i in list_frase:\n",
    "        dist_atual = calcula_distancia(num_objetivo, i)\n",
    "        if dist_atual > max_dist:\n",
    "            max_dist = dist_atual\n",
    "    return max_dist"
   ]
  },
  {
   "cell_type": "markdown",
   "id": "57fa8d90-d5e0-4f6d-8998-b64831d3982f",
   "metadata": {},
   "source": [
    "# 3. Mecanismo de Seleção\n",
    "\n",
    "# 3.1 Seleção dos pais\n",
    "\n",
    "Retornamos os dois melhores indivíduos para realizar o cruzamento entre eles"
   ]
  },
  {
   "cell_type": "code",
   "execution_count": 7,
   "id": "46f94583-a71c-4463-b20e-df75f425f3c6",
   "metadata": {},
   "outputs": [],
   "source": [
    "def selection(num_objetivo, list_num_frases):\n",
    "    \"Retorna as duas melhores soluções (melhores fitness)\"\n",
    "    len_frase = len(list_num_frases)\n",
    "    dist_1 = 1000000\n",
    "    dist_2 = menor_distancia(num_objetivo, list_num_frases)\n",
    "    position_1 = len_frase+1\n",
    "    position_2 = len_frase+1\n",
    "\n",
    "    for i, frase_atual in enumerate(list_num_frases):\n",
    "        dist_frase = calcula_distancia(num_objetivo, frase_atual)\n",
    "        if dist_frase ==  dist_2 and position_2 != i:\n",
    "            position_2 = i\n",
    "        elif dist_frase < dist_1:\n",
    "            dist_1 = dist_frase\n",
    "            position_1 = i\n",
    "            \n",
    "    melhores_2 = [list_num_frases[position_1],\n",
    "                  list_num_frases[position_2]]\n",
    "    return melhores_2"
   ]
  },
  {
   "cell_type": "markdown",
   "id": "f43b01b2-a246-48e8-ae49-3a4bcf55b26d",
   "metadata": {},
   "source": [
    "## 3.2 Seleção dos Sobreviventes\n",
    "\n",
    "Para selecionar os sobreviventes, selecionamos os dois piores e os removemos da nossa lsita."
   ]
  },
  {
   "cell_type": "code",
   "execution_count": 8,
   "id": "e74e802b-29ab-4505-bef1-cb29598f3c89",
   "metadata": {},
   "outputs": [],
   "source": [
    "def replacement(num_objetivo, list_num_frases):\n",
    "    \"Retorna as duas melhores soluções (melhores fitness)\"\n",
    "    len_frase = len(list_num_frases)\n",
    "    dist_1 = 0\n",
    "    dist_2 = maior_distancia(num_objetivo, list_num_frases)\n",
    "    position_1 = len_frase+1\n",
    "    position_2 = len_frase+1\n",
    "\n",
    "    for i, frase_atual in enumerate(list_num_frases):\n",
    "        dist_frase = calcula_distancia(num_objetivo, frase_atual)\n",
    "        if dist_frase ==  dist_2 and position_2 != i:\n",
    "            position_2 = i\n",
    "        elif dist_frase > dist_1 and i != position_2:\n",
    "            dist_1 = dist_frase\n",
    "            position_1 = i\n",
    "    \n",
    "    del list_num_frases[position_2]\n",
    "    del list_num_frases[position_1]\n",
    "    return list_num_frases"
   ]
  },
  {
   "cell_type": "markdown",
   "id": "83a3350b-724b-40ce-988b-1f922f871729",
   "metadata": {},
   "source": [
    "# Operadores de Variação\n",
    "\n",
    "## Mutation\n",
    "\n",
    "Na nossa função de mutation recebe a porcentagem de mutação e multiplica pelo tamanho da nossa frase (27) gerando uma nova amostra com a quantidade de intens solicitados"
   ]
  },
  {
   "cell_type": "code",
   "execution_count": 9,
   "id": "6c32a74f-61c7-4afc-9cc7-c9f9eb33c206",
   "metadata": {},
   "outputs": [],
   "source": [
    "def mutation(mutation_rate, frase):\n",
    "    size_mutation = int(mutation_rate*27)\n",
    "    last_i = 0 # Variavel criada para realizar mutacoes em todas as partes\n",
    "    quant_mutation = math.ceil(size_mutation/27)+1\n",
    "\n",
    "    for i in range(1, quant_mutation+1):\n",
    "        lim_sup = i*size_mutation\n",
    "        \n",
    "        size_of_mutation = len(frase[last_i:lim_sup])\n",
    "        new_part = [gen_individuo() for x in range(0, size_of_mutation)] # Geracao de novos individuos\n",
    "        \n",
    "        distancia_inicial = abs(calcula_distancia(num_objetivo[last_i:lim_sup],\n",
    "                                                  frase[last_i:lim_sup]))\n",
    "        distancia_nova = abs(calcula_distancia(num_objetivo[last_i:lim_sup],\n",
    "                                               new_part))\n",
    "        if distancia_nova < distancia_inicial:\n",
    "            frase[last_i:lim_sup] = new_part.copy()\n",
    "\n",
    "    return frase"
   ]
  },
  {
   "cell_type": "markdown",
   "id": "9f2deab8-0120-443f-a066-82ec431029ab",
   "metadata": {},
   "source": [
    "# Execução do algoritmo"
   ]
  },
  {
   "cell_type": "code",
   "execution_count": 10,
   "id": "107250c4-9e2d-47d4-baf2-475756f4dc21",
   "metadata": {},
   "outputs": [],
   "source": [
    "objetivo = 'METHINKS*IT*IS*LIKE*A*WEASEL'\n",
    "objetivo = ['M', 'E', 'T', 'H', 'I', 'N', 'K', 'S', '*', \n",
    "            'I', 'T', '*', \n",
    "            'I', 'S', '*', \n",
    "            'L', 'I', 'K', 'E', '*', \n",
    "            'A', '*', \n",
    "            'W', 'E', 'A', 'S', 'E', 'L']\n",
    "num_objetivo = [universo[x] for x in objetivo]"
   ]
  },
  {
   "cell_type": "code",
   "execution_count": 55,
   "id": "b98d08fa-f42d-4ab8-938f-63b10da5f9e7",
   "metadata": {
    "tags": []
   },
   "outputs": [],
   "source": [
    "tamanho_pop = 10\n",
    "epocas = 1000\n",
    "mutation_rate = 0.7\n",
    "populacao = gen_pop(tamanho_pop)\n",
    "\n",
    "list_results = []\n",
    "list_epc = []\n",
    "list_avg_resutls = []\n",
    "best_result = menor_distancia(num_objetivo, populacao)\n",
    "list_results.append(best_result)\n",
    "list_avg_results.append(np.mean(list_results))\n",
    "\n",
    "epc = 0\n",
    "list_epc.append(epc)\n",
    "while epc < epocas and best_result != 0:\n",
    "    melhores_2 = selection(num_objetivo, populacao).copy() # Retorna os 2 melhores\n",
    "    populacao = replacement(num_objetivo, populacao).copy() # Remove os 2 piores\n",
    "    \n",
    "    for frase_top in melhores_2:\n",
    "        populacao.append(mutation(mutation_rate, frase_top))\n",
    "    # lista_cross = cross_over(melhores_2)\n",
    "    # list_num_frases.append(lista_cross[0])\n",
    "    # list_num_frases.append(lista_cross[1])\n",
    "    best_result = menor_distancia(num_objetivo, populacao)\n",
    "    list_results.append(best_result)\n",
    "    list_avg_results.append(np.mean(list_results))\n",
    "    epc+=1    \n",
    "    list_epc.append(epc)\n",
    "    "
   ]
  },
  {
   "cell_type": "code",
   "execution_count": 56,
   "id": "a03affaa-54fb-418d-b5e2-c9d10833565b",
   "metadata": {},
   "outputs": [
    {
     "name": "stdout",
     "output_type": "stream",
     "text": [
      "0.6955681385315253\n"
     ]
    },
    {
     "data": {
      "text/plain": [
       "\"['H', 'G', 'D', 'Y', 'I', 'S', 'Q', 'G', 'Z', 'Q', 'H', 'G', 'I', 'V', 'B', 'B', 'E', 'U', 'E', 'X', 'A', 'E', 'C', 'C', 'B', 'U', 'N']\""
      ]
     },
     "execution_count": 56,
     "metadata": {},
     "output_type": "execute_result"
    }
   ],
   "source": [
    "print(list_results[-1])\n",
    "str(traduz_frase(melhores_2[1]))"
   ]
  },
  {
   "cell_type": "markdown",
   "id": "dd9baf48-8db9-434b-b957-36a38d9e5b2b",
   "metadata": {},
   "source": [
    "Para nosso algoritmo funcionar, iremos trabalhar com um conceito de distância que consistirá em subtrair nosso valor da string real da nossa string gerada, quanto mais próximo o valor das string, mais próxima essa distância será de zero, sendo assim nosso algoritmo poderá ser otimizado."
   ]
  },
  {
   "cell_type": "code",
   "execution_count": 57,
   "id": "34da5ff9-88d8-472f-ad6e-68164caf0edc",
   "metadata": {},
   "outputs": [
    {
     "data": {
      "image/png": "[encoded data removed]",
      "text/plain": [
       "<Figure size 640x480 with 1 Axes>"
      ]
     },
     "metadata": {},
     "output_type": "display_data"
    }
   ],
   "source": [
    "import matplotlib.pyplot as plt\n",
    "\n",
    "plt.plot(list_epc, list_results)\n",
    "plt.plot(list_epc, list_avg_results)\n",
    "plt.show()"
   ]
  },
  {
   "cell_type": "code",
   "execution_count": null,
   "id": "4d60ff17-3758-4346-9b48-37f30638780a",
   "metadata": {},
   "outputs": [],
   "source": []
  },
  {
   "cell_type": "code",
   "execution_count": null,
   "id": "09c6a548-fe35-48d0-8d74-cfa2903001b4",
   "metadata": {},
   "outputs": [],
   "source": []
  }
 ],
 "metadata": {
  "kernelspec": {
   "display_name": "Python 3",
   "language": "python",
   "name": "python3"
  },
  "language_info": {
   "codemirror_mode": {
    "name": "ipython",
    "version": 3
   },
   "file_extension": ".py",
   "mimetype": "text/x-python",
   "name": "python",
   "nbconvert_exporter": "python",
   "pygments_lexer": "ipython3",
   "version": "3.8.11"
  },
  "latex_envs": {
   "LaTeX_envs_menu_present": true,
   "autoclose": false,
   "autocomplete": true,
   "bibliofile": "biblio.bib",
   "cite_by": "apalike",
   "current_citInitial": 1,
   "eqLabelWithNumbers": true,
   "eqNumInitial": 1,
   "hotkeys": {
    "equation": "Ctrl-E",
    "itemize": "Ctrl-I"
   },
   "labels_anchors": false,
   "latex_user_defs": false,
   "report_style_numbering": false,
   "user_envs_cfg": false
  },
  "toc": {
   "base_numbering": 1,
   "nav_menu": {},
   "number_sections": true,
   "sideBar": true,
   "skip_h1_title": false,
   "title_cell": "Table of Contents",
   "title_sidebar": "Contents",
   "toc_cell": false,
   "toc_position": {},
   "toc_section_display": true,
   "toc_window_display": false
  },
  "varInspector": {
   "cols": {
    "lenName": 16,
    "lenType": 16,
    "lenVar": 40
   },
   "kernels_config": {
    "python": {
     "delete_cmd_postfix": "",
     "delete_cmd_prefix": "del ",
     "library": "var_list.py",
     "varRefreshCmd": "print(var_dic_list())"
    },
    "r": {
     "delete_cmd_postfix": ") ",
     "delete_cmd_prefix": "rm(",
     "library": "var_list.r",
     "varRefreshCmd": "cat(var_dic_list()) "
    }
   },
   "types_to_exclude": [
    "module",
    "function",
    "builtin_function_or_method",
    "instance",
    "_Feature"
   ],
   "window_display": false
  }
 },
 "nbformat": 4,
 "nbformat_minor": 5
}
