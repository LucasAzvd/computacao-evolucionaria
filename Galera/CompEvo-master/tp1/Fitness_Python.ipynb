{
 "cells": [
  {
   "cell_type": "code",
   "execution_count": 9,
   "metadata": {},
   "outputs": [],
   "source": [
    "import random as rd\n",
    "import numpy as np"
   ]
  },
  {
   "cell_type": "code",
   "execution_count": 43,
   "metadata": {},
   "outputs": [
    {
     "name": "stdout",
     "output_type": "stream",
     "text": [
      "[[4, 7, 0, 1, 5, 6, 3, 2], [2, 7, 5, 1, 4, 3, 0, 6], [2, 0, 4, 7, 6, 5, 3, 1], [7, 4, 5, 0, 2, 1, 3, 6], [7, 2, 6, 3, 0, 4, 5, 1], [1, 5, 2, 6, 4, 3, 7, 0], [3, 2, 0, 7, 1, 5, 4, 6], [5, 1, 2, 0, 7, 6, 4, 3], [3, 1, 7, 4, 0, 5, 2, 6], [5, 6, 0, 2, 4, 1, 3, 7], [2, 3, 0, 7, 4, 6, 5, 1], [4, 2, 6, 7, 1, 0, 5, 3], [6, 1, 3, 7, 4, 5, 0, 2], [2, 0, 3, 7, 6, 5, 1, 4], [2, 7, 6, 3, 0, 1, 4, 5], [7, 2, 1, 6, 0, 5, 3, 4], [6, 3, 1, 4, 2, 5, 0, 7], [2, 5, 7, 1, 3, 4, 0, 6], [0, 3, 6, 7, 2, 1, 4, 5], [1, 6, 0, 4, 2, 5, 7, 3]]\n"
     ]
    }
   ],
   "source": [
    "crossover_rate = 1\n",
    "mutation_rate = 0.8 \n",
    "\n",
    "def init_population(_mu:int = 20, n:int = 8):\n",
    "    population = []\n",
    "    for i in range (_mu):\n",
    "        population.append(rd.sample(range(n), n))\n",
    "    return population\n",
    "\n",
    "pop = init_population(20, 8)\n",
    "print(pop)"
   ]
  },
  {
   "cell_type": "code",
   "execution_count": 35,
   "metadata": {},
   "outputs": [],
   "source": [
    "def fitness_nq(solution):\n",
    "    xeques = 0\n",
    "    for i in range(0,len(solution)):\n",
    "        for j in range(0,len(solution)):\n",
    "            if i!=j:\n",
    "                if i-solution[i] == j-solution[j] or i+solution[i] == j+solution[j]:\n",
    "                    xeques+=1\n",
    "    return xeques"
   ]
  },
  {
   "cell_type": "code",
   "execution_count": 42,
   "metadata": {},
   "outputs": [
    {
     "data": {
      "text/plain": [
       "0"
      ]
     },
     "execution_count": 42,
     "metadata": {},
     "output_type": "execute_result"
    }
   ],
   "source": [
    "fitness_nq([2,0,3,1])"
   ]
  },
  {
   "cell_type": "code",
   "execution_count": 44,
   "metadata": {},
   "outputs": [
    {
     "name": "stdout",
     "output_type": "stream",
     "text": [
      "[12, 8, 12, 8, 4, 6, 10, 6, 4, 6, 8, 10, 10, 8, 8, 6, 8, 10, 12, 12]\n"
     ]
    }
   ],
   "source": [
    "pop_fitness = [fitness_nq(each_solution) for each_solution in pop]\n",
    "print(pop_fitness)"
   ]
  }
 ],
 "metadata": {
  "kernelspec": {
   "display_name": "Python 3",
   "language": "python",
   "name": "python3"
  },
  "language_info": {
   "codemirror_mode": {
    "name": "ipython",
    "version": 3
   },
   "file_extension": ".py",
   "mimetype": "text/x-python",
   "name": "python",
   "nbconvert_exporter": "python",
   "pygments_lexer": "ipython3",
   "version": "3.8.5"
  }
 },
 "nbformat": 4,
 "nbformat_minor": 4
}
