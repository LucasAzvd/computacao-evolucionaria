{
 "cells": [
  {
   "cell_type": "markdown",
   "id": "8bb36941",
   "metadata": {},
   "source": [
    "# Trabalho Prático 3\n",
    "## Computação Evolucionária - UFMG - 2021/1\n",
    "### Alunos:\n",
    " * Jesimon Barreto\n",
    " * Daniel Piçarro"
   ]
  },
  {
   "cell_type": "markdown",
   "id": "3dc72b7b",
   "metadata": {},
   "source": [
    "## Questão 1\n",
    "Fazer com que população de strings evolua para a string objetivo: \"METHINKS\\*IT\\*IS\\*LIKE\\*A\\*WEASEL\""
   ]
  },
  {
   "cell_type": "markdown",
   "id": "b8d31708",
   "metadata": {},
   "source": [
    "### Qual a probabilidade de uma string gerada aleatoriamente ser exatamente igual à string alvo?\n",
    "A probabilidade desse evento acontecer é de $\\frac{1}{37}^{28}$, considerando como possíveis caracteres as letras maiúsculas, minúsculas e o asterisco. Dessa forma, mesmo partindo de strings aleatórias, o GGA consegue superar essa probabilidade, reproduzindo a mesma dinâmica que ocorre na seleção natural."
   ]
  },
  {
   "cell_type": "markdown",
   "id": "a6289bb1",
   "metadata": {},
   "source": [
    "### Imports"
   ]
  },
  {
   "cell_type": "code",
   "execution_count": 1,
   "id": "d1b3ab88",
   "metadata": {},
   "outputs": [],
   "source": [
    "import random\n",
    "import string\n",
    "import copy\n",
    "import numpy as np\n",
    "import random as rd\n",
    "import matplotlib\n",
    "import matplotlib.pyplot as plt"
   ]
  },
  {
   "cell_type": "markdown",
   "id": "e4abf72d",
   "metadata": {},
   "source": [
    "### Representação dos caracteres válidos\n",
    "Afim de gerar as strings aleatórias que farão parte da população, listamos os valores ASCII dos caracteres válidos."
   ]
  },
  {
   "cell_type": "code",
   "execution_count": 15,
   "id": "fb5f3b7d",
   "metadata": {},
   "outputs": [
    {
     "data": {
      "text/plain": [
       "37"
      ]
     },
     "execution_count": 15,
     "metadata": {},
     "output_type": "execute_result"
    }
   ],
   "source": [
    "values_representation = list(np.arange(48,58)) #maiusculos\n",
    "values_representation += list(np.arange(65,91))#minusculos\n",
    "values_representation += [42] #*"
   ]
  },
  {
   "cell_type": "markdown",
   "id": "4f3b9333",
   "metadata": {},
   "source": [
    "### Geração da população\n",
    "Funções relativas à geração da população."
   ]
  },
  {
   "cell_type": "code",
   "execution_count": 3,
   "id": "9b4d6b3b",
   "metadata": {},
   "outputs": [],
   "source": [
    "# gera string aleatória somente com letras maiusculas e minusculas (sem digitos ou caracteres especiais) \n",
    "def get_random_string(length=28):\n",
    "    # choose from all lowercase letter\n",
    "    letters = string.ascii_letters\n",
    "    return ''.join(random.choice(letters) for i in range(length))\n",
    "\n",
    "# adiciona asteriscos aleatórios em posições aleatórias da string\n",
    "def add_random_asterisk(word):\n",
    "    number_of_asterisks = random.randint(0,len(word))\n",
    "    for asterisk in range(number_of_asterisks):\n",
    "        random_idx = random.randint(0,len(word)-1)\n",
    "        word_to_list = list(word)\n",
    "        word_to_list[random_idx] = '*'\n",
    "        word = \"\".join(word_to_list)\n",
    "    return word\n",
    "\n",
    "# gerar população de strings\n",
    "def generate_pop(pop_size):\n",
    "    pop = []\n",
    "    for being in range(pop_size):\n",
    "        pop.append(add_random_asterisk(get_random_string()))\n",
    "    return pop"
   ]
  },
  {
   "cell_type": "markdown",
   "id": "8e4e0147",
   "metadata": {},
   "source": [
    "### Conversão ASCII <-> *char*\n",
    "Funções para conversão de vetores e pop. de ASCII para char, e vice-versa."
   ]
  },
  {
   "cell_type": "code",
   "execution_count": 4,
   "id": "6dd83844",
   "metadata": {},
   "outputs": [],
   "source": [
    "# converter de char para int (ascii)\n",
    "# recebe string, retorna vetor de inteiros\n",
    "def word_to_integer_vector(word):\n",
    "    return list(map(lambda x: ord(x),list(word)))\n",
    "\n",
    "# converter pop. inteira de char para int (ascii)\n",
    "def w2c_entire_pop(pop):\n",
    "    return list(map(lambda x: word_to_integer_vector(x), pop))\n",
    "\n",
    "# converter de ascii para char, retorna string\n",
    "# recebe vetor de inteiros, retorna string \n",
    "def integer_to_word_vector(vector):\n",
    "    return ''.join(list(map(lambda x: chr(x),vector)))\n",
    "\n",
    "# converter pop. inteira de ascii para char\n",
    "def c2w_entire_pop(pop):\n",
    "    return list(map(lambda x: integer_to_word_vector(x), pop))"
   ]
  },
  {
   "cell_type": "markdown",
   "id": "d8a04f5d",
   "metadata": {},
   "source": [
    "### Cálculo de Fitness\n",
    "Função para cálculo de fitness dos indivíduos. "
   ]
  },
  {
   "cell_type": "code",
   "execution_count": 5,
   "id": "36ec33d5",
   "metadata": {},
   "outputs": [],
   "source": [
    "# função de custo\n",
    "# soma das diferenças entre os valores das duas strings\n",
    "def fitness_nq(int_vec_word, target=\"METHINKS*IT*IS*LIKE*A*WEASEL\"):\n",
    "    int_target = word_to_integer_vector(target)\n",
    "    return np.sum(np.abs(int_vec_word - int_target))\n",
    "\n",
    "# recebe vetor de ints (que representa uma palavra)\n",
    "def evaluate_loss_function(int_vec_word, target=\"METHINKS*IT*IS*LIKE*A*WEASEL\"):\n",
    "    print(f\"Word:   {integer_to_word_vector(int_vec_word)}\\n\")\n",
    "    print(f\"Target: {target}\\n\")\n",
    "    result = []\n",
    "    int_target = word_to_integer_vector(target)\n",
    "    for i in range(len(int_vec_word)):\n",
    "        result.append(np.abs(int_vec_word[i] - int_target[i]))\n",
    "    return np.sum(result)"
   ]
  },
  {
   "cell_type": "markdown",
   "id": "35f540cc",
   "metadata": {},
   "source": [
    "### Mutação\n",
    "Funções usadas para a mutação."
   ]
  },
  {
   "cell_type": "code",
   "execution_count": 6,
   "id": "411b409a",
   "metadata": {},
   "outputs": [],
   "source": [
    "# retorna caracter dentro da lista dos caracteres válidos\n",
    "def get_caract_random():\n",
    "    p = random.randint(0,len(values_representation)-1)\n",
    "    return values_representation[p]\n",
    "\n",
    "# função de mutação escolhe uma posição dentro de um indivíduo e a \n",
    "# troca por um caractere aleatório (dentro dos caracteres válidos)\n",
    "def mutation(offspring, mutation_rate):\n",
    "    size_ind = len(offspring[0])\n",
    "    population_copy = copy.copy(offspring)\n",
    "    for i in range(len(population_copy)):\n",
    "        if float(random.randint(0, 10))/10 <= mutation_rate:\n",
    "            loc = random.randint(0,size_ind-1)\n",
    "            mut = get_caract_random()\n",
    "            population_copy[i,loc] = mut\n",
    "    return population_copy"
   ]
  },
  {
   "cell_type": "markdown",
   "id": "3466aafd",
   "metadata": {},
   "source": [
    "### Seleção dos melhores indivíudos (ranking dos indivíduos)\n",
    "\n",
    "Primeiramente, foi considerado o uso da substituição da geração atual inteira pela offsprin, o que seria alcançado cruzando todos os indivíduos entre si.\n",
    "No entanto, não o fizemos.\n",
    "\n",
    "Chegou-se na conclusão que não fazia muito sentido usar essa abordagem, tendo em vista que não estava sendo forçada a seleção natural.\n",
    "Foi feito como na Tarefa #1: substituiram-se os piores da geração anterior pelos melhores da nova geração."
   ]
  },
  {
   "cell_type": "code",
   "execution_count": 7,
   "id": "d90de918",
   "metadata": {},
   "outputs": [],
   "source": [
    "def selection(population, cut, k = 5):\n",
    "    scores = []\n",
    "    # escolhendo k indivíduos aleatórios     \n",
    "    for individual in random.choices(population, k=k):\n",
    "        fitness_score = fitness_nq(individual)\n",
    "        scores.append((fitness_score, individual))\n",
    "    sorted_scores = sorted(scores, key=lambda tup: tup[0])\n",
    "    best_ones = sorted_scores[:cut] \n",
    "    return list(map(lambda x: x[1], best_ones))"
   ]
  },
  {
   "cell_type": "markdown",
   "id": "6719eb5f",
   "metadata": {},
   "source": [
    "### Função de Crossover\n",
    "Recebe dois indivíduos e gera dois filhos. \n",
    "Uso de um ponto de corte aleatório.\n",
    "Valores pares."
   ]
  },
  {
   "cell_type": "code",
   "execution_count": 8,
   "id": "39ae35dc",
   "metadata": {},
   "outputs": [],
   "source": [
    "# crossover (reprodução)\n",
    "def crossover(subset_parents, cross_over_rate):\n",
    "    new_ = []\n",
    "    if float(rd.randint(0, 10))/10 <= cross_over_rate:\n",
    "        size_n = len(subset_parents[0])\n",
    "        for i in range(0,int(len(subset_parents)/2),2):\n",
    "            cut_v = random.randint(1, size_n-1)\n",
    "            son1 = np.concatenate((subset_parents[i][0:cut_v], subset_parents[i+1][cut_v:]))\n",
    "            son2 = np.concatenate((subset_parents[i+1][0:cut_v], subset_parents[i][cut_v:]))\n",
    "            new_.append(son1)\n",
    "            new_.append(son2)\n",
    "    else:\n",
    "        new_ = subset_parents\n",
    "        \n",
    "    return np.array(new_)"
   ]
  },
  {
   "cell_type": "markdown",
   "id": "477e4725",
   "metadata": {},
   "source": [
    "### Função de Substituição da população - Seleção Natural"
   ]
  },
  {
   "cell_type": "code",
   "execution_count": 9,
   "id": "56ab7117",
   "metadata": {},
   "outputs": [],
   "source": [
    "# Seleção natural\n",
    "# sustituir os piores pelos melhores\n",
    "def replacement(offspring_new, pop):\n",
    "    pop = np.concatenate((pop,offspring_new), axis=0)\n",
    "    evaluate_v = []\n",
    "    for indv in pop:\n",
    "        evaluate_v.append(fitness_nq(indv))\n",
    "    \n",
    "    sorted_ = sorted(range(len(evaluate_v)), key=evaluate_v.__getitem__)\n",
    "    pop_order = pop[sorted_]\n",
    "    \n",
    "    pop_order = pop_order[:-len(offspring_new)]\n",
    "    \n",
    "    return pop_order"
   ]
  },
  {
   "cell_type": "markdown",
   "id": "5a3ce1ec",
   "metadata": {},
   "source": [
    "### Executando a evolução"
   ]
  },
  {
   "cell_type": "code",
   "execution_count": 10,
   "id": "a8b9bfab",
   "metadata": {},
   "outputs": [
    {
     "data": {
      "text/plain": [
       "array([[102, 101, 116, ...,  42,  42,  42],\n",
       "       [122,  87,  88, ..., 120, 101, 117],\n",
       "       [107,  69, 104, ...,  90,  42, 106],\n",
       "       ...,\n",
       "       [102,  79,  79, ...,  76,  97, 102],\n",
       "       [ 42, 108,  42, ..., 104,  42, 100],\n",
       "       [ 88, 117,  70, ...,  82,  89,  89]])"
      ]
     },
     "execution_count": 10,
     "metadata": {},
     "output_type": "execute_result"
    }
   ],
   "source": [
    "cross_over_rate = 0.7\n",
    "mutation_rate = 0.7\n",
    "n_inter_max = 1000\n",
    "cut = 40\n",
    "k = 100\n",
    "\n",
    "pop = generate_pop(200)\n",
    "pop = np.array(w2c_entire_pop(pop))\n",
    "pop"
   ]
  },
  {
   "cell_type": "code",
   "execution_count": 11,
   "id": "69452877",
   "metadata": {},
   "outputs": [
    {
     "name": "stdout",
     "output_type": "stream",
     "text": [
      "Fitness da geração menor valor 0: 509\n",
      "\n",
      "Fitness da geração menor valor 80: 59\n",
      "\n",
      "Fitness da geração menor valor 160: 24\n",
      "\n",
      "Fitness da geração menor valor 240: 11\n",
      "\n",
      "Fitness da geração menor valor 320: 5\n",
      "\n",
      "Fitness da geração menor valor 400: 2\n",
      "\n",
      "Fitness da geração menor valor 480: 1\n",
      "\n",
      "Fitness da geração menor valor 560: 1\n",
      "\n",
      "Fitness da geração menor valor 568: 0\n",
      "\n",
      "Melhor solução encontrada: [77 69 84 72 73 78 75 83 42 73 84 42 73 83 42 76 73 75 69 42 65 42 87 69\n",
      " 65 83 69 76]\n",
      "Fitness da melhor solução encontrada: 0\n"
     ]
    }
   ],
   "source": [
    "sol = []\n",
    "n_iter = 0\n",
    "fitness_avg = []\n",
    "best_of_generation = []\n",
    "smallest_fitness = 1000\n",
    "\n",
    "while n_iter < n_inter_max and smallest_fitness > 0:\n",
    "    \n",
    "    subset_parents = selection(pop, cut, k = k)\n",
    "    offspring = crossover(subset_parents, cross_over_rate)\n",
    "    offspring_new = mutation(offspring, mutation_rate)\n",
    "    pop = replacement(offspring_new, pop)\n",
    "    fitness_scores = []\n",
    "    last = fitness_nq(pop[0])\n",
    "    \n",
    "    for p in pop:\n",
    "        v = fitness_nq(p)\n",
    "        fitness_scores.append(v)\n",
    "        if last < smallest_fitness:\n",
    "            smallest_fitness = last\n",
    "            sol = copy.copy(pop[0])\n",
    "    \n",
    "\n",
    "    best_of_generation.append(smallest_fitness)\n",
    "            \n",
    "    current_fitness_avg = sum(fitness_scores)/len(fitness_scores)\n",
    "    fitness_avg.append(current_fitness_avg)\n",
    "    \n",
    "    if n_iter%80 == 0:\n",
    "        print (f\"Fitness da geração menor valor {n_iter}: {last}\\n\")    \n",
    "    n_iter += 1\n",
    "\n",
    "print (f\"Fitness da geração menor valor {n_iter}: {last}\\n\")    \n",
    "print(f\"Melhor solução encontrada: {sol}\")\n",
    "print(f\"Fitness da melhor solução encontrada: {smallest_fitness}\")"
   ]
  },
  {
   "cell_type": "markdown",
   "id": "880008c6",
   "metadata": {},
   "source": [
    "### Solução encontrada\n",
    "Como pode ser visto, após 568 iterações, obteu-se um indivíduo igual ao objetivo."
   ]
  },
  {
   "cell_type": "code",
   "execution_count": 12,
   "id": "c7698ac9",
   "metadata": {},
   "outputs": [
    {
     "name": "stdout",
     "output_type": "stream",
     "text": [
      "Número de interações: 568\n",
      "Result: METHINKS*IT*IS*LIKE*A*WEASEL\n"
     ]
    }
   ],
   "source": [
    "print('Número de interações: {}'.format(n_iter))\n",
    "print(f\"Result: {integer_to_word_vector(sol)}\")"
   ]
  },
  {
   "cell_type": "code",
   "execution_count": 13,
   "id": "f53fca36",
   "metadata": {},
   "outputs": [
    {
     "data": {
      "image/png": "[encoded data removed]",
      "text/plain": [
       "<Figure size 432x288 with 1 Axes>"
      ]
     },
     "metadata": {
      "needs_background": "light"
     },
     "output_type": "display_data"
    }
   ],
   "source": [
    "# Plotting both the curves simultaneously\n",
    "X = range(n_iter)\n",
    "plt.plot(X, fitness_avg, color='r', label='Fitness Average')\n",
    "plt.plot(X, best_of_generation, color='g', label='Best of each gen.')\n",
    "  \n",
    "# Naming the x-axis, y-axis and the whole graph\n",
    "plt.xlabel(\"Generation\")\n",
    "plt.ylabel(\"Fitness\")\n",
    "plt.title(\"Evolution\")\n",
    "  \n",
    "# Adding legend, which helps us recognize the curve according to it's color\n",
    "plt.legend()\n",
    "  \n",
    "# To load the display window\n",
    "plt.show()"
   ]
  },
  {
   "cell_type": "markdown",
   "id": "68d4e823",
   "metadata": {},
   "source": [
    "### Testes com a taxa de mutação e crossover\n",
    "Ao se usar a taxas de crossover e mutação sugeridas pelo enunciado, o algoritmo não obteve uma performance tão boa quanto havia obtido na primeira execução.\n",
    "Nesta segunda execução, a taxa de mutação foi > 0.1 e a taxa de crossover foi de 0.6."
   ]
  },
  {
   "cell_type": "code",
   "execution_count": 24,
   "id": "b97a8841",
   "metadata": {},
   "outputs": [
    {
     "name": "stdout",
     "output_type": "stream",
     "text": [
      "Fitness da geração menor valor 0: 522\n",
      "\n",
      "Fitness da geração menor valor 80: 114\n",
      "\n",
      "Fitness da geração menor valor 160: 54\n",
      "\n",
      "Fitness da geração menor valor 240: 27\n",
      "\n",
      "Fitness da geração menor valor 320: 18\n",
      "\n",
      "Fitness da geração menor valor 400: 10\n",
      "\n",
      "Fitness da geração menor valor 480: 6\n",
      "\n",
      "Fitness da geração menor valor 560: 5\n",
      "\n",
      "Fitness da geração menor valor 640: 4\n",
      "\n",
      "Fitness da geração menor valor 720: 4\n",
      "\n",
      "Fitness da geração menor valor 800: 2\n",
      "\n",
      "Fitness da geração menor valor 880: 1\n",
      "\n",
      "Fitness da geração menor valor 960: 1\n",
      "\n",
      "Fitness da geração menor valor 1000: 1\n",
      "\n",
      "Melhor solução encontrada: [77 69 84 72 73 78 75 83 42 73 84 42 73 83 42 76 74 75 69 42 65 42 87 69\n",
      " 65 83 69 76]\n",
      "Fitness da melhor solução encontrada: 1\n",
      "Número de interações: 1000\n",
      "Result: METHINKS*IT*IS*LJKE*A*WEASEL\n"
     ]
    },
    {
     "data": {
      "image/png": "[encoded data removed]",
      "text/plain": [
       "<Figure size 432x288 with 1 Axes>"
      ]
     },
     "metadata": {
      "needs_background": "light"
     },
     "output_type": "display_data"
    }
   ],
   "source": [
    "cross_over_rate = 0.6\n",
    "mutation_rate = 0.1\n",
    "\n",
    "pop = generate_pop(200)\n",
    "pop = np.array(w2c_entire_pop(pop))\n",
    "\n",
    "sol = []\n",
    "n_iter = 0\n",
    "fitness_avg = []\n",
    "best_of_generation = []\n",
    "smallest_fitness = 1000\n",
    "\n",
    "while n_iter < n_inter_max and smallest_fitness > 0:\n",
    "    \n",
    "    subset_parents = selection(pop, cut, k = k)\n",
    "    offspring = crossover(subset_parents, cross_over_rate)\n",
    "    offspring_new = mutation(offspring, mutation_rate)\n",
    "    pop = replacement(offspring_new, pop)\n",
    "    fitness_scores = []\n",
    "    last = fitness_nq(pop[0])\n",
    "    \n",
    "    for p in pop:\n",
    "        v = fitness_nq(p)\n",
    "        fitness_scores.append(v)\n",
    "        if last < smallest_fitness:\n",
    "            smallest_fitness = last\n",
    "            sol = copy.copy(pop[0])\n",
    "    \n",
    "\n",
    "    best_of_generation.append(smallest_fitness)\n",
    "            \n",
    "    current_fitness_avg = sum(fitness_scores)/len(fitness_scores)\n",
    "    fitness_avg.append(current_fitness_avg)\n",
    "    \n",
    "    if n_iter%80 == 0:\n",
    "        print (f\"Fitness da geração menor valor {n_iter}: {last}\\n\")    \n",
    "    n_iter += 1\n",
    "\n",
    "print (f\"Fitness da geração menor valor {n_iter}: {last}\\n\")    \n",
    "print(f\"Melhor solução encontrada: {sol}\")\n",
    "print(f\"Fitness da melhor solução encontrada: {smallest_fitness}\")\n",
    "\n",
    "print('Número de interações: {}'.format(n_iter))\n",
    "print(f\"Result: {integer_to_word_vector(sol)}\")\n",
    "\n",
    "# Plotting both the curves simultaneously\n",
    "X = range(n_iter)\n",
    "plt.plot(X, fitness_avg, color='r', label='Fitness Average')\n",
    "plt.plot(X, best_of_generation, color='g', label='Best of each gen.')\n",
    "  \n",
    "# Naming the x-axis, y-axis and the whole graph\n",
    "plt.xlabel(\"Generation\")\n",
    "plt.ylabel(\"Fitness\")\n",
    "plt.title(\"Evolution\")\n",
    "  \n",
    "# Adding legend, which helps us recognize the curve according to it's color\n",
    "plt.legend()\n",
    "  \n",
    "# To load the display window\n",
    "plt.show()"
   ]
  }
 ],
 "metadata": {
  "kernelspec": {
   "display_name": "Python 3",
   "language": "python",
   "name": "python3"
  },
  "language_info": {
   "codemirror_mode": {
    "name": "ipython",
    "version": 3
   },
   "file_extension": ".py",
   "mimetype": "text/x-python",
   "name": "python",
   "nbconvert_exporter": "python",
   "pygments_lexer": "ipython3",
   "version": "3.8.10"
  }
 },
 "nbformat": 4,
 "nbformat_minor": 5
}
