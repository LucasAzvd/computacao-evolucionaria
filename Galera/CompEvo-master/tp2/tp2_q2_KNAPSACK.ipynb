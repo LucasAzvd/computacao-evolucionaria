{
 "cells": [
  {
   "cell_type": "markdown",
   "metadata": {},
   "source": [
    "# Trabalho Prático 3\n",
    "## Computação Evolucionária - UFMG - 2021/1\n",
    "### Alunos:\n",
    " * Jesimon Barreto\n",
    " * Daniel Piçarro"
   ]
  },
  {
   "cell_type": "markdown",
   "metadata": {},
   "source": [
    "## Questão 2\n",
    "Implementação de AGG para solucionar o problema da mochila."
   ]
  },
  {
   "cell_type": "markdown",
   "metadata": {},
   "source": [
    "### Imports"
   ]
  },
  {
   "cell_type": "code",
   "execution_count": 1,
   "metadata": {},
   "outputs": [],
   "source": [
    "import random\n",
    "import string\n",
    "import copy\n",
    "import numpy as np\n",
    "import random as rd\n",
    "import matplotlib\n",
    "import matplotlib.pyplot as plt"
   ]
  },
  {
   "cell_type": "markdown",
   "metadata": {},
   "source": [
    "### Setando variáveis\n",
    "* Tamanho da mochila\n",
    "* Pesos dos itens \n",
    "* Valores dos itens\n",
    "* $\\rho$"
   ]
  },
  {
   "cell_type": "code",
   "execution_count": 2,
   "metadata": {},
   "outputs": [],
   "source": [
    "size = 8\n",
    "w = np.array([10, 18, 12, 14, 13, 11, 8, 6])\n",
    "gain = np.array([5 , 8 , 7 , 6 , 9 , 5 , 4, 3])\n",
    "capacity = 35\n",
    "\n",
    "r = np.max(gain / w) "
   ]
  },
  {
   "cell_type": "markdown",
   "metadata": {},
   "source": [
    "### Gerar população\n",
    "Gerar pop. de 0 ou 1 aleatórios de tamanho igual à quantidade de itens."
   ]
  },
  {
   "cell_type": "code",
   "execution_count": 3,
   "metadata": {},
   "outputs": [],
   "source": [
    "def generate_pop(n = 20):\n",
    "    pop = []\n",
    "    for i in range (n):\n",
    "        ind = np.random.randint(0,2,size)\n",
    "        pop.append(ind)\n",
    "    return pop"
   ]
  },
  {
   "cell_type": "markdown",
   "metadata": {},
   "source": [
    "### Função de penalização"
   ]
  },
  {
   "cell_type": "code",
   "execution_count": 4,
   "metadata": {},
   "outputs": [],
   "source": [
    "def penal(proposed):\n",
    "    level = r * np.maximum((np.sum(proposed*w) - capacity),0)\n",
    "    return level "
   ]
  },
  {
   "cell_type": "markdown",
   "metadata": {},
   "source": [
    "### Funções de cálculo de fitness"
   ]
  },
  {
   "cell_type": "code",
   "execution_count": 5,
   "metadata": {},
   "outputs": [],
   "source": [
    "def fitness(proposed):\n",
    "    s = []\n",
    "    for prop in proposed:\n",
    "        s.append(np.sum(gain*prop) - penal(prop))\n",
    "    return s\n",
    "\n",
    "def fitness_nq(proposed):\n",
    "    v = (np.sum(gain*proposed) - penal(proposed))\n",
    "    return v"
   ]
  },
  {
   "cell_type": "markdown",
   "metadata": {},
   "source": [
    "### Função de mutação"
   ]
  },
  {
   "cell_type": "code",
   "execution_count": 6,
   "metadata": {},
   "outputs": [],
   "source": [
    "def mutation(offspring, mutation_rate):\n",
    "    size_ind = len(offspring[0])\n",
    "    population_copy = copy.copy(offspring)\n",
    "    for i in range(len(population_copy)):\n",
    "        if float(random.randint(0, 10))/10 <= mutation_rate:\n",
    "            loc = random.randint(0,size_ind-1)\n",
    "            population_copy[i,loc] = int(not (population_copy[i,loc]))\n",
    "    return population_copy"
   ]
  },
  {
   "cell_type": "markdown",
   "metadata": {},
   "source": [
    "### Função de crossover"
   ]
  },
  {
   "cell_type": "code",
   "execution_count": 7,
   "metadata": {},
   "outputs": [],
   "source": [
    "def crossover(subset_parents, cross_over_rate):\n",
    "    new_ = []\n",
    "    if float(rd.randint(0, 10))/10 <= cross_over_rate:\n",
    "        size_n = len(subset_parents[0])\n",
    "        for i in range(0,int(len(subset_parents)/2),2):\n",
    "            cut_v = random.randint(1, size_n-1)\n",
    "            son1 = np.concatenate((subset_parents[i][0:cut_v], subset_parents[i+1][cut_v:]))\n",
    "            son2 = np.concatenate((subset_parents[i+1][0:cut_v], subset_parents[i][cut_v:]))\n",
    "            new_.append(son1)\n",
    "            new_.append(son2)\n",
    "    else:\n",
    "        new_ = subset_parents\n",
    "        \n",
    "    return np.array(new_)\n"
   ]
  },
  {
   "cell_type": "markdown",
   "metadata": {},
   "source": [
    "### Função de geração da próxima geração (substituição)"
   ]
  },
  {
   "cell_type": "code",
   "execution_count": 8,
   "metadata": {},
   "outputs": [],
   "source": [
    "def replacement(offspring_new, pop):\n",
    "    pop = np.concatenate((pop,offspring_new), axis=0)\n",
    "    evaluate_v = []\n",
    "    for indv in pop:\n",
    "        evaluate_v.append(fitness_nq(indv))\n",
    "    \n",
    "    sorted_ = sorted(range(len(evaluate_v)), key=evaluate_v.__getitem__)\n",
    "    pop_order = pop[sorted_]\n",
    "    pop_order = pop_order[len(offspring_new):]\n",
    "    \n",
    "    return pop_order"
   ]
  },
  {
   "cell_type": "markdown",
   "metadata": {},
   "source": [
    "### Função de seleção dos melhores indivíduos"
   ]
  },
  {
   "cell_type": "code",
   "execution_count": 9,
   "metadata": {},
   "outputs": [],
   "source": [
    "def selection_fitness_r(population, indv):\n",
    "    loss = fitness(population)\n",
    "    loss_total = np.sum(loss) \n",
    "    fitness_norm = loss/loss_total # O fitness dos individuos é normalizado em relação ao fitness da população\n",
    "    selected = []\n",
    "    for i in range(indv):\n",
    "        sel = random.random()\n",
    "        acc = 0\n",
    "        prev_acc = 0\n",
    "        chosen = -1\n",
    "        for j in range(len(fitness_norm)):\n",
    "            acc += fitness_norm[j]\n",
    "            if sel < acc and sel >= prev_acc:\n",
    "                chosen = j\n",
    "                break\n",
    "            prev_acc = acc\n",
    "        selected.append(population[chosen])\n",
    "    return selected    "
   ]
  },
  {
   "cell_type": "markdown",
   "metadata": {},
   "source": [
    "### Executando a evolução"
   ]
  },
  {
   "cell_type": "code",
   "execution_count": 10,
   "metadata": {},
   "outputs": [],
   "source": [
    "pop = generate_pop(40)\n",
    "cross_over_rate = 0.7\n",
    "mutation_rate = 0.7\n",
    "n_inter_max = 500\n",
    "cut = 2"
   ]
  },
  {
   "cell_type": "code",
   "execution_count": 11,
   "metadata": {},
   "outputs": [
    {
     "name": "stdout",
     "output_type": "stream",
     "text": [
      "Fitness da geração maior valor 0: 19.846153846153847\n",
      "\n",
      "Fitness da geração maior valor 50: 19.846153846153847\n",
      "\n",
      "Fitness da geração maior valor 100: 21.0\n",
      "\n",
      "Fitness da geração maior valor 150: 21.0\n",
      "\n",
      "Fitness da geração maior valor 200: 21.0\n",
      "\n",
      "Fitness da geração maior valor 250: 21.0\n",
      "\n",
      "Fitness da geração maior valor 300: 21.0\n",
      "\n",
      "Fitness da geração maior valor 350: 21.0\n",
      "\n",
      "Fitness da geração maior valor 400: 21.0\n",
      "\n",
      "Fitness da geração maior valor 450: 21.0\n",
      "\n",
      "Fitness da geração maior valor 500: 21.0\n",
      "\n",
      "Melhor solução encontrada: [1 0 1 0 1 0 0 0]\n",
      "Fitness da melhor solução encontrada: 21.0\n"
     ]
    }
   ],
   "source": [
    "sol = []\n",
    "n_iter = 0\n",
    "fitness_avg = []\n",
    "best_of_generation = []\n",
    "biggest_fitness = -1\n",
    "smallest_fitness = 1000\n",
    "\n",
    "while n_iter < n_inter_max:\n",
    "    subset_parents = selection_fitness_r(pop, cut)\n",
    "    offspring = crossover(subset_parents, cross_over_rate)\n",
    "    offspring_new = mutation(offspring, mutation_rate)\n",
    "    pop = replacement(offspring_new, pop)\n",
    "    fitness_scores = []\n",
    "    last = fitness_nq(pop[-1])\n",
    "    \n",
    "    for p in pop:\n",
    "        v = fitness_nq(p)\n",
    "        fitness_scores.append(v)\n",
    "        if last > biggest_fitness:\n",
    "            biggest_fitness = last\n",
    "            sol = copy.copy(pop[-1])\n",
    "\n",
    "    best_of_generation.append(biggest_fitness)\n",
    "            \n",
    "    current_fitness_avg = sum(fitness_scores)/len(fitness_scores)\n",
    "    fitness_avg.append(current_fitness_avg)\n",
    "    \n",
    "    if n_iter%50 == 0:\n",
    "        print (f\"Fitness da geração maior valor {n_iter}: {last}\\n\")    \n",
    "    n_iter += 1\n",
    "\n",
    "print (f\"Fitness da geração maior valor {n_iter}: {last}\\n\")    \n",
    "print(f\"Melhor solução encontrada: {sol}\")\n",
    "print(f\"Fitness da melhor solução encontrada: {biggest_fitness}\")"
   ]
  },
  {
   "cell_type": "markdown",
   "metadata": {},
   "source": [
    "### Resultados obtidos\n",
    "Abaixo, podem ser vistos os resultados obtidos na execução do AGG com uma população inicial de 40 indivíduos."
   ]
  },
  {
   "cell_type": "code",
   "execution_count": 15,
   "metadata": {},
   "outputs": [
    {
     "name": "stdout",
     "output_type": "stream",
     "text": [
      "**Solução**\n",
      "\n",
      "Número de iterações: 500\n",
      "Os objetos utilizados são: [1 0 1 0 1 0 0 0]\n",
      "Peso na mochila: 35\n",
      "Ganho: 21\n",
      "\n",
      "\n",
      "1 - Usa\n",
      "2 - Não\n",
      "3 - Usa\n",
      "4 - Não\n",
      "5 - Usa\n",
      "6 - Não\n",
      "7 - Não\n",
      "8 - Não\n"
     ]
    }
   ],
   "source": [
    "print('**Solução**\\n')\n",
    "print('Número de iterações: {}'.format(n_iter))\n",
    "print('Os objetos utilizados são: {}'.format(sol))\n",
    "print('Peso na mochila: {}'.format(np.sum(sol*w)))\n",
    "print('Ganho: {}\\n\\n'.format(np.sum(sol*gain)))\n",
    "for e, i in enumerate(sol):\n",
    "    if i:\n",
    "        print('{} - Usa'.format(e+1))\n",
    "    else:\n",
    "        print('{} - Não'.format(e+1))"
   ]
  },
  {
   "cell_type": "code",
   "execution_count": 13,
   "metadata": {},
   "outputs": [
    {
     "data": {
      "image/png": "[encoded data removed]",
      "text/plain": [
       "<Figure size 432x288 with 1 Axes>"
      ]
     },
     "metadata": {
      "needs_background": "light"
     },
     "output_type": "display_data"
    }
   ],
   "source": [
    "# Plotting both the curves simultaneously\n",
    "X = range(n_iter)\n",
    "plt.plot(X, fitness_avg, color='r', label='Fitness Average')\n",
    "plt.plot(X, best_of_generation, color='g', label='Best of each gen.')\n",
    "  \n",
    "# Naming the x-axis, y-axis and the whole graph\n",
    "plt.xlabel(\"Generation\")\n",
    "plt.ylabel(\"Fitness\")\n",
    "plt.title(\"Evolution\")\n",
    "  \n",
    "# Adding legend, which helps us recognize the curve according to it's color\n",
    "plt.legend()\n",
    "  \n",
    "# To load the display window\n",
    "plt.show()"
   ]
  }
 ],
 "metadata": {
  "kernelspec": {
   "display_name": "Python 3",
   "language": "python",
   "name": "python3"
  },
  "language_info": {
   "codemirror_mode": {
    "name": "ipython",
    "version": 3
   },
   "file_extension": ".py",
   "mimetype": "text/x-python",
   "name": "python",
   "nbconvert_exporter": "python",
   "pygments_lexer": "ipython3",
   "version": "3.8.10"
  }
 },
 "nbformat": 4,
 "nbformat_minor": 2
}
