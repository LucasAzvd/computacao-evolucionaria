{
 "cells": [
  {
   "cell_type": "markdown",
   "id": "0ce7ebe1",
   "metadata": {},
   "source": [
    "# Trabalho Prático 4 - Evolução diferencial\n",
    "## Computação Evolucionária - UFMG - 2021/1\n",
    "### Alunos:\n",
    " * Jesimon Barreto\n",
    " * Daniel Piçarro"
   ]
  },
  {
   "cell_type": "code",
   "execution_count": 1,
   "id": "5227ac5d",
   "metadata": {},
   "outputs": [],
   "source": [
    "import numpy as np\n",
    "import random\n",
    "import copy\n",
    "import math\n",
    "import matplotlib.pyplot as plt"
   ]
  },
  {
   "cell_type": "markdown",
   "id": "a67905ad",
   "metadata": {},
   "source": [
    "## Funções de suporte"
   ]
  },
  {
   "cell_type": "code",
   "execution_count": 2,
   "id": "f71a7eb4",
   "metadata": {},
   "outputs": [],
   "source": [
    "# Gerando pop. inicial\n",
    "\n",
    "# N -> tamanho da pop. (TEM QUE SER MAIOR QUE 3)\n",
    "# n -> quantidade de variáveis\n",
    "# low -> limite inferior da distribuição uniforme\n",
    "# high -> limite superior da distribuição uniforme\n",
    "def init_pop(N:int, n:int, low:int, high:int):\n",
    "    pop = np.zeros((1, n, N))\n",
    "    print(pop.shape)\n",
    "    for i in range (n):\n",
    "        s = np.random.uniform(low, high, N)\n",
    "        pop[0][i] = s\n",
    "    return pop\n",
    "\n",
    "# recebe a pop. e retorna 3 indivíduos (r1, r2, r3) -> cada um é um vetor unidimensional\n",
    "def select_three(pop):\n",
    "    rand_idxs = random.sample(range(0, pop.shape[1]), 3)\n",
    "    return pop[:,rand_idxs[0]], pop[:,rand_idxs[1]], pop[:,rand_idxs[2]]\n",
    "\n",
    "# recebe camada atual, retorna:\n",
    "#    - melhor solução da camada\n",
    "#    - score da melhor solução da camada\n",
    "#    - score médio da camada\n",
    "def get_best_in_layer(t_pop, function='p'):    \n",
    "    best_sol = t_pop[:,0]    \n",
    "    evals = []\n",
    "    for k in range(t_pop.shape[1]):\n",
    "        current_sol = t_pop[:,k]\n",
    "        current_score = evaluate(current_sol, function)\n",
    "        evals.append(current_score)\n",
    "        best_sol_score = evaluate(best_sol, function)\n",
    "        if current_score <= best_sol_score:\n",
    "            best_sol = current_sol\n",
    "    layer_avg = np.mean(evals)\n",
    "    return best_sol, best_sol_score, layer_avg\n",
    "\n",
    "def plot(n_iter, fitness_avg, best_of_generation):\n",
    "    # Plotting both the curves simultaneously\n",
    "    X = range(n_iter)\n",
    "    plt.plot(X, fitness_avg, color='r', label='Fitness Average')\n",
    "    plt.plot(X, best_of_generation, color='g', label='Best of each gen.')\n",
    "\n",
    "    # Naming the x-axis, y-axis and the whole graph\n",
    "    plt.xlabel(\"Generation\")\n",
    "    plt.ylabel(\"Fitness\")\n",
    "    plt.title(\"Evolution\")\n",
    "\n",
    "    # Adding legend, which helps us recognize the curve according to it's color\n",
    "    plt.legend()\n",
    "\n",
    "    # To load the display window\n",
    "    plt.show()"
   ]
  },
  {
   "cell_type": "markdown",
   "id": "2ef45901",
   "metadata": {},
   "source": [
    "## Funções objetivo"
   ]
  },
  {
   "cell_type": "code",
   "execution_count": 3,
   "id": "1670d36a",
   "metadata": {},
   "outputs": [],
   "source": [
    "def peaks(x):\n",
    "    return 3*(1-x[0])**2*math.exp(-(x[0]**2)-(x[1]+1)**2)-10*(x[0]/5-x[0]**3-x[1]**5)*math.exp(-x[0]**2-x[1]**2)-1/3*math.exp(-(x[0]+1)**2-x[1]**2)\n",
    "\n",
    "def rastrigin(x):\n",
    "    x = np.array(x)\n",
    "    x = x.reshape(1, -1).T\n",
    "    Q = np.eye(len(x)) \n",
    "    X = Q.dot(x) \n",
    "    n = len(X)\n",
    "    F = 0\n",
    "    \n",
    "    for i in range(n):\n",
    "        F = F + X[i]**2 - 10*np.cos(2*np.pi*X[i])\n",
    "        \n",
    "    return F[0]\n",
    "\n",
    "def evaluate(v, param = 'p'):\n",
    "    if param == 'p':\n",
    "        return peaks(v)\n",
    "    elif param == 'r':\n",
    "        return rastrigin(v)\n",
    "    else:\n",
    "        return 0"
   ]
  },
  {
   "cell_type": "code",
   "execution_count": 4,
   "id": "f1af9493",
   "metadata": {},
   "outputs": [
    {
     "data": {
      "text/plain": [
       "-20.0"
      ]
     },
     "execution_count": 4,
     "metadata": {},
     "output_type": "execute_result"
    }
   ],
   "source": [
    "evaluate([0,0], 'r')"
   ]
  },
  {
   "cell_type": "markdown",
   "id": "b6a47034",
   "metadata": {},
   "source": [
    "## Evolução diferencial "
   ]
  },
  {
   "cell_type": "code",
   "execution_count": 5,
   "id": "9e822c83",
   "metadata": {},
   "outputs": [],
   "source": [
    "def differential_evolution(N=50, n=2, low=-2, high=2, C=0.6, F=0.7, function='p', num_iter=100):\n",
    "\n",
    "    # inicializa pop.\n",
    "    pop = init_pop(N,n,low,high)\n",
    "\n",
    "    n_iter = 0\n",
    "\n",
    "    fitness_avg = []\n",
    "    best_of_generation = []\n",
    "\n",
    "    # enquanto crit. parada não satisfeito\n",
    "    while n_iter <= num_iter:\n",
    "\n",
    "        # pega \"camada mais recente\" da pop.\n",
    "        # t_pop = copy.copy(pop[-1])\n",
    "        t_pop = pop[-1]\n",
    "\n",
    "        # \"mi\" descrito no enunciado, solução mutante (\"mais uma camada do bolo\")\n",
    "        solucao_mutante = np.zeros((n, N))\n",
    "\n",
    "        new_layer = np.zeros((n, N))\n",
    "\n",
    "        # iterando entre indivíduos\n",
    "        for i in range(N):\n",
    "            r1, r2, r3 = select_three(t_pop)\n",
    "            sigma = random.randint(0, N)\n",
    "            # iterando entre variáveis de um indivíduo\n",
    "            for j in range(n):\n",
    "                if np.random.uniform(0, 1) <= C or j == sigma:\n",
    "                    solucao_mutante[j][i] = r1[j] + F*(r2[j] - r3[j])\n",
    "                else:\n",
    "                    solucao_mutante[j][i] = t_pop[j][i]\n",
    "\n",
    "            # avaliamos o indivíduo e a solução mutante\n",
    "            # se solução mutante for melhor, substitui-se o indivíduo original pela solução mutante\n",
    "\n",
    "            eval_mut = evaluate(solucao_mutante[:, i], function) \n",
    "            eval_t_pop = evaluate(t_pop[:, i], function)\n",
    "\n",
    "            if eval_mut <= eval_t_pop:\n",
    "                new_layer[:, i] = solucao_mutante[:, i]\n",
    "            else:\n",
    "                new_layer[:, i] = t_pop[:, i]\n",
    "\n",
    "        best_sol, best_sol_score, layer_avg = get_best_in_layer(new_layer, function)\n",
    "        fitness_avg.append(layer_avg)\n",
    "        best_of_generation.append(best_sol_score)\n",
    "\n",
    "        pop = np.concatenate((pop, [new_layer]), axis=0)        \n",
    "        n_iter += 1\n",
    "        \n",
    "    plot(n_iter, fitness_avg, best_of_generation)\n",
    "    \n",
    "    print(f\"Melhor solução encontrada: {best_sol}\\n\")\n",
    "    print(f\"Fitness: {best_sol_score}\\n\")"
   ]
  },
  {
   "cell_type": "markdown",
   "id": "6f6af488",
   "metadata": {},
   "source": [
    "## Resultados"
   ]
  },
  {
   "cell_type": "markdown",
   "id": "444341c0",
   "metadata": {},
   "source": [
    "### Função objetivo: Peaks"
   ]
  },
  {
   "cell_type": "code",
   "execution_count": 11,
   "id": "c1dde904",
   "metadata": {},
   "outputs": [
    {
     "name": "stdout",
     "output_type": "stream",
     "text": [
      "(1, 2, 100)\n"
     ]
    },
    {
     "data": {
      "image/png": "[encoded data removed]",
      "text/plain": [
       "<Figure size 432x288 with 1 Axes>"
      ]
     },
     "metadata": {
      "needs_background": "light"
     },
     "output_type": "display_data"
    },
    {
     "name": "stdout",
     "output_type": "stream",
     "text": [
      "Melhor solução encontrada: [ 0.22811303 -1.62528771]\n",
      "\n",
      "Fitness: -6.5511320304263085\n",
      "\n",
      "CPU times: user 312 ms, sys: 8.05 ms, total: 320 ms\n",
      "Wall time: 311 ms\n"
     ]
    }
   ],
   "source": [
    "%%time\n",
    "\n",
    "differential_evolution(N=100, n=2, low=-3, high=3, C=0.6, F=0.7, function='p', num_iter=40)"
   ]
  },
  {
   "cell_type": "markdown",
   "id": "1b743410",
   "metadata": {},
   "source": [
    "### Função objetivo: Rastrigin"
   ]
  },
  {
   "cell_type": "code",
   "execution_count": 18,
   "id": "e4c64be1",
   "metadata": {},
   "outputs": [
    {
     "name": "stdout",
     "output_type": "stream",
     "text": [
      "(1, 2, 100)\n"
     ]
    },
    {
     "data": {
      "image/png": "[encoded data removed]",
      "text/plain": [
       "<Figure size 432x288 with 1 Axes>"
      ]
     },
     "metadata": {
      "needs_background": "light"
     },
     "output_type": "display_data"
    },
    {
     "name": "stdout",
     "output_type": "stream",
     "text": [
      "Melhor solução encontrada: [ 2.21121812e-08 -1.36320553e-07]\n",
      "\n",
      "Fitness: -19.99999999999622\n",
      "\n",
      "CPU times: user 988 ms, sys: 3.54 ms, total: 992 ms\n",
      "Wall time: 986 ms\n"
     ]
    }
   ],
   "source": [
    "%%time\n",
    "\n",
    "differential_evolution(N=100, n=2, low=-2, high=2, C=0.9, F=0.9, function='r', num_iter=100)"
   ]
  }
 ],
 "metadata": {
  "kernelspec": {
   "display_name": "Python 3",
   "language": "python",
   "name": "python3"
  },
  "language_info": {
   "codemirror_mode": {
    "name": "ipython",
    "version": 3
   },
   "file_extension": ".py",
   "mimetype": "text/x-python",
   "name": "python",
   "nbconvert_exporter": "python",
   "pygments_lexer": "ipython3",
   "version": "3.8.10"
  }
 },
 "nbformat": 4,
 "nbformat_minor": 5
}
