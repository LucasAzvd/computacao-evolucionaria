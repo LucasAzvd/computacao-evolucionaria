{
 "cells": [
  {
   "cell_type": "code",
   "execution_count": 1,
   "metadata": {},
   "outputs": [],
   "source": [
    "import random as rd\n",
    "import numpy as np\n",
    "import math"
   ]
  },
  {
   "cell_type": "code",
   "execution_count": 2,
   "metadata": {},
   "outputs": [],
   "source": [
    "def init_population(_mu:int = 20, n:int = 8):\n",
    "    \"Inicia uma população com o tamanho das peças do tabuleiro e a quantidade de rainhas como parâmetro\"\n",
    "    population = []\n",
    "    for i in range (_mu):\n",
    "        population.append(rd.sample(range(n), n))\n",
    "\n",
    "    return population\n"
   ]
  },
  {
   "cell_type": "code",
   "execution_count": 3,
   "metadata": {},
   "outputs": [],
   "source": [
    "def fitness_nq(solution):\n",
    "    \"\"\"Informa a quantidade de cheques em cada solução\"\"\"\n",
    "    xeques = 0\n",
    "    for i in range(0,len(solution)):\n",
    "        for j in range(0,len(solution)):\n",
    "            if i!=j:\n",
    "                if i-solution[i] == j-solution[j] or i+solution[i] == j+solution[j]:\n",
    "                    xeques+=1\n",
    "\n",
    "    return xeques"
   ]
  },
  {
   "cell_type": "code",
   "execution_count": 4,
   "metadata": {},
   "outputs": [],
   "source": [
    "def selection(pop: list, n_rainhas: int):\n",
    "    \"Retorna as duas melhores soluções (melhores fitness)\"\n",
    "    \n",
    "    pop_fitness = [fitness_nq(each_solution) for each_solution in pop]\n",
    "\n",
    "    min_xeques_1 = max(pop_fitness)\n",
    "    min_xeques_2 = min(pop_fitness)\n",
    "    position_2 = n_rainhas + 1\n",
    "    position_1 = n_rainhas + 1\n",
    "\n",
    "    for i, num_xeques in enumerate(pop_fitness):\n",
    "        if num_xeques ==  min_xeques_2 and position_2 != i:\n",
    "            position_2 = i\n",
    "        elif num_xeques < min_xeques_1:\n",
    "            min_xeques_1 = num_xeques\n",
    "            position_1 = i\n",
    "            \n",
    "    melhores_2 = [pop[position_1], pop[position_2]]\n",
    "    return melhores_2"
   ]
  },
  {
   "cell_type": "code",
   "execution_count": 5,
   "metadata": {},
   "outputs": [],
   "source": [
    "def crossover(subset_parents, crossover_rate):\n",
    "    \"Retorna um subset (dois indivíduos filhos) como resultado do cruzamento dos pais\"\n",
    "    len_parents = len(subset_parents[0])\n",
    "    cut = int(1+len_parents*crossover_rate) # Valor onde irá cortar\n",
    "    \n",
    "    # Fazendo a combinação entre os pais para gerar os filhos\n",
    "    son_1 = subset_parents[0].copy()\n",
    "    son_2 = subset_parents[1].copy()\n",
    "    \n",
    "    son_1_genes = son_1[cut:]\n",
    "    son_1[cut:] = son_2[cut:]\n",
    "    son_2[cut:] = son_1_genes\n",
    "    \n",
    "    return [son_1, son_2]"
   ]
  },
  {
   "cell_type": "code",
   "execution_count": 6,
   "metadata": {},
   "outputs": [],
   "source": [
    "def mutation(offspring, mutation_rate, n_rainhas):\n",
    "    \"Retorna um subset (dois indivíduos) como resultado da mutação dos filhos\"\n",
    "    size_ind = len(offspring[0])\n",
    "    quant_mut = int(size_ind*mutation_rate)\n",
    "    index_mult = np.linspace(0, size_ind-1, quant_mut)\n",
    "    \n",
    "    new_springs = []\n",
    "    for spring in offspring:\n",
    "        for i in index_mult:\n",
    "            i = int(i)\n",
    "            new_number = rd.randint(0, n_rainhas-1)\n",
    "            spring[i] = new_number\n",
    "            \n",
    "        new_springs.append(spring)\n",
    "\n",
    "    return new_springs"
   ]
  },
  {
   "cell_type": "code",
   "execution_count": 7,
   "metadata": {},
   "outputs": [],
   "source": [
    "def replacement(offspring_new, pop):\n",
    "    \"Atualiza a lista de população, substituindo os dois piores individuos pelos dois que fazem parte do subset offspring new\"\n",
    "    \n",
    "    pop_fitness = [fitness_nq(each_solution) for each_solution in pop]\n",
    "\n",
    "    max_xeques_1 = max(pop_fitness)\n",
    "    max_xeques_2 = min(pop_fitness)\n",
    "    position_1 = n_rainhas + 1\n",
    "    position_2 = n_rainhas + 1\n",
    "\n",
    "    for i, num_xeques in enumerate(pop_fitness):\n",
    "        if num_xeques ==  max_xeques_1 and position_1 != i:\n",
    "            position_1 = i\n",
    "        elif num_xeques > max_xeques_2:\n",
    "            max_xeques_2 = num_xeques\n",
    "            position_2 = i\n",
    "    # print(\"----------------------------------------------------------------\")\n",
    "    pop_fitness = [fitness_nq(each_solution) for each_solution in pop]\n",
    "    # print(pop_fitness)\n",
    "    pop[position_1] = offspring_new[0]\n",
    "    pop[position_2] = offspring_new[1]\n",
    "    pop_fitness = [fitness_nq(each_solution) for each_solution in pop]\n",
    "    # print(pop_fitness)\n",
    "    return pop"
   ]
  },
  {
   "cell_type": "code",
   "execution_count": 8,
   "metadata": {},
   "outputs": [],
   "source": [
    "def evalution(pop: list):\n",
    "    \"Retorna o melhor resultado e a média de xeques\"\n",
    "    pop_fitness = [fitness_nq(each_solution) for each_solution in pop]\n",
    "    fitness_best = min(pop_fitness)\n",
    "    fitness_mean = np.mean(pop_fitness)\n",
    "    return fitness_best, fitness_mean"
   ]
  },
  {
   "cell_type": "code",
   "execution_count": 14,
   "metadata": {},
   "outputs": [
    {
     "name": "stdout",
     "output_type": "stream",
     "text": [
      "Melhor Resultado | Resultado Médio\n",
      "\t2 \t | \t8.8\n",
      "\t2 \t | \t8.2\n",
      "\t2 \t | \t8.1\n",
      "\t2 \t | \t8.1\n",
      "\t2 \t | \t7.7\n",
      "\t2 \t | \t7.3\n",
      "\t2 \t | \t7.4\n",
      "\t2 \t | \t7.0\n",
      "\t2 \t | \t6.9\n",
      "\t2 \t | \t6.6\n",
      "\t2 \t | \t6.1\n"
     ]
    }
   ],
   "source": [
    "i_geracoes = 0\n",
    "\n",
    "crossover_rate = 0.5\n",
    "mutation_rate = 0.8 \n",
    "n_rainhas = 8\n",
    "tamanho_tabuleiro = 20\n",
    "num_epochs = 10\n",
    "fitness_best = None\n",
    "\n",
    "list_best_fitness = []\n",
    "list_mean_fitness = []\n",
    "\n",
    "pop = init_population(tamanho_tabuleiro, n_rainhas)\n",
    "\n",
    "print(\"Melhor Resultado | Resultado Médio\")\n",
    "while i_geracoes <= num_epochs and fitness_best != 0:\n",
    "    subset_parents = selection(pop, n_rainhas)\n",
    "    offspring = crossover(subset_parents, crossover_rate)\n",
    "    pop_fitness = [fitness_nq(each_solution) for each_solution in pop]\n",
    "    offspring_new = mutation(offspring, mutation_rate, n_rainhas)\n",
    "    \n",
    "    pop = replacement(offspring_new, pop)\n",
    "    pop_fitness = [fitness_nq(each_solution) for each_solution in pop]\n",
    "    \n",
    "    fitness_best, fitness_mean = evalution(pop)\n",
    "    print(f\"\\t{fitness_best} \\t | \\t{fitness_mean}\")\n",
    "    list_best_fitness.append(fitness_best)\n",
    "    list_mean_fitness.append(fitness_mean)\n",
    "    i_geracoes += 1\n",
    "    "
   ]
  },
  {
   "cell_type": "code",
   "execution_count": null,
   "metadata": {},
   "outputs": [],
   "source": []
  },
  {
   "cell_type": "code",
   "execution_count": null,
   "metadata": {},
   "outputs": [],
   "source": []
  }
 ],
 "metadata": {
  "kernelspec": {
   "display_name": "Python 3",
   "language": "python",
   "name": "python3"
  },
  "language_info": {
   "codemirror_mode": {
    "name": "ipython",
    "version": 3
   },
   "file_extension": ".py",
   "mimetype": "text/x-python",
   "name": "python",
   "nbconvert_exporter": "python",
   "pygments_lexer": "ipython3",
   "version": "3.8.11"
  }
 },
 "nbformat": 4,
 "nbformat_minor": 4
}
