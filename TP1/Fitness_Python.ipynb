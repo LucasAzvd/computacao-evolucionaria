{
 "cells": [
  {
   "cell_type": "code",
   "execution_count": 3,
   "metadata": {},
   "outputs": [],
   "source": [
    "import random as rd\n",
    "import numpy as np"
   ]
  },
  {
   "cell_type": "code",
   "execution_count": 4,
   "metadata": {},
   "outputs": [],
   "source": [
    "num_epochs = 10"
   ]
  },
  {
   "cell_type": "code",
   "execution_count": 5,
   "metadata": {},
   "outputs": [],
   "source": [
    "def init_population(_mu:int = 20, n:int = 8):\n",
    "    \"Inicia uma população com o tamanho das peças do tabuleiro e a quantidade de rainhas como parâmetro\"\n",
    "    population = []\n",
    "    for i in range (_mu):\n",
    "        population.append(rd.sample(range(n), n))\n",
    "    return population\n"
   ]
  },
  {
   "cell_type": "code",
   "execution_count": 6,
   "metadata": {},
   "outputs": [],
   "source": [
    "def fitness_nq(solution):\n",
    "    \"\"\"Informa a quantidade de cheques em cada solução\"\"\"\n",
    "    xeques = 0\n",
    "    for i in range(0,len(solution)):\n",
    "        for j in range(0,len(solution)):\n",
    "            if i!=j:\n",
    "                if i-solution[i] == j-solution[j] or i+solution[i] == j+solution[j]:\n",
    "                    xeques+=1\n",
    "    return xeques"
   ]
  },
  {
   "cell_type": "code",
   "execution_count": 7,
   "metadata": {},
   "outputs": [
    {
     "name": "stdout",
     "output_type": "stream",
     "text": [
      "[[7, 1, 5, 3, 2, 6, 4, 0], [6, 5, 2, 7, 3, 0, 4, 1], [0, 5, 1, 4, 2, 3, 6, 7], [2, 4, 5, 3, 7, 0, 6, 1], [7, 6, 0, 4, 2, 1, 5, 3], [1, 6, 2, 3, 7, 5, 4, 0], [1, 3, 4, 2, 0, 6, 5, 7], [6, 4, 3, 1, 2, 0, 7, 5], [5, 7, 3, 0, 2, 4, 1, 6], [3, 6, 2, 7, 4, 5, 1, 0], [7, 4, 5, 2, 1, 6, 3, 0], [7, 6, 3, 0, 1, 2, 4, 5], [3, 4, 1, 5, 6, 7, 0, 2], [7, 0, 4, 1, 3, 6, 2, 5], [5, 0, 1, 4, 3, 7, 6, 2], [0, 1, 7, 4, 2, 3, 6, 5], [4, 0, 5, 3, 7, 2, 6, 1], [1, 2, 4, 3, 5, 6, 7, 0], [4, 3, 1, 0, 5, 7, 6, 2], [7, 4, 3, 2, 0, 5, 6, 1]]\n"
     ]
    },
    {
     "data": {
      "text/plain": [
       "12"
      ]
     },
     "execution_count": 7,
     "metadata": {},
     "output_type": "execute_result"
    }
   ],
   "source": [
    "crossover_rate = 1\n",
    "mutation_rate = 0.8 \n",
    "\n",
    "pop = init_population(20, 8)\n",
    "print(pop)\n",
    "\n",
    "fitness_nq(pop[0])"
   ]
  },
  {
   "cell_type": "code",
   "execution_count": 8,
   "metadata": {},
   "outputs": [
    {
     "name": "stdout",
     "output_type": "stream",
     "text": [
      "[12, 6, 10, 10, 12, 10, 10, 16, 4, 14, 16, 16, 10, 6, 10, 14, 6, 22, 10, 8]\n"
     ]
    }
   ],
   "source": [
    "pop_fitness = [fitness_nq(each_solution) for each_solution in pop] # Gera o valor de cada solução\n",
    "\n",
    "print(pop_fitness)"
   ]
  },
  {
   "cell_type": "code",
   "execution_count": null,
   "metadata": {},
   "outputs": [],
   "source": []
  },
  {
   "cell_type": "code",
   "execution_count": 7,
   "metadata": {},
   "outputs": [],
   "source": [
    "def selection(pop):\n",
    "    # FAZER ALGORITMO DE ORDENAÇÃO EM PYTHON QUE RETORNA O MAIOR VALOR\n",
    "    \"Retorna entre 5 solução aleatórias as duas melhores (melhores fitness)\"\n",
    "    pass"
   ]
  },
  {
   "cell_type": "code",
   "execution_count": 9,
   "metadata": {},
   "outputs": [],
   "source": [
    "def crossover(subset_parents, crossover_rate):\n",
    "    \"Retorna um subset (dois indivíduos filhos) comoo resultado do cruzamento dos pais\"\n",
    "    pass"
   ]
  },
  {
   "cell_type": "code",
   "execution_count": 10,
   "metadata": {},
   "outputs": [],
   "source": [
    "def mutation(offspring, mutation_rate):\n",
    "    \"Retorna um subset (dois indivíduos) como resultado da mutação dos filhos\"\n",
    "    pass"
   ]
  },
  {
   "cell_type": "code",
   "execution_count": 11,
   "metadata": {},
   "outputs": [],
   "source": [
    "def replacement(offspring_new, pop):\n",
    "    \"Atualiza a lista de população, substituindo os dois piores individuos pelos dois que fazem parte do subset offspring new\"\n",
    "    pass"
   ]
  },
  {
   "cell_type": "code",
   "execution_count": null,
   "metadata": {},
   "outputs": [],
   "source": [
    "while i_geracoes <= num_epochs and fitness_best(i_geracoes) != 0:\n",
    "    subset_parents = selection(pop)\n",
    "    offspring = crossover(subset_parents, crossover_rate)\n",
    "    offspring_new = mutation(offspring, mutation_rate)\n",
    "    pop = replacement(offspring_new, pop)\n",
    "    fitness_best, fitness_mean = evalution(pop)"
   ]
  },
  {
   "cell_type": "code",
   "execution_count": null,
   "metadata": {},
   "outputs": [],
   "source": []
  }
 ],
 "metadata": {
  "kernelspec": {
   "display_name": "Python 3",
   "language": "python",
   "name": "python3"
  },
  "language_info": {
   "codemirror_mode": {
    "name": "ipython",
    "version": 3
   },
   "file_extension": ".py",
   "mimetype": "text/x-python",
   "name": "python",
   "nbconvert_exporter": "python",
   "pygments_lexer": "ipython3",
   "version": "3.8.11"
  }
 },
 "nbformat": 4,
 "nbformat_minor": 4
}
