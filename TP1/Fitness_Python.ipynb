{
 "cells": [
  {
   "cell_type": "code",
   "execution_count": 4,
   "metadata": {},
   "outputs": [],
   "source": [
    "import random as rd\n",
    "import numpy as np\n",
    "import math"
   ]
  },
  {
   "cell_type": "code",
   "execution_count": 5,
   "metadata": {},
   "outputs": [],
   "source": [
    "num_epochs = 10"
   ]
  },
  {
   "cell_type": "code",
   "execution_count": 20,
   "metadata": {},
   "outputs": [],
   "source": [
    "def init_population(_mu:int = 20, n:int = 8):\n",
    "    \"Inicia uma população com o tamanho das peças do tabuleiro e a quantidade de rainhas como parâmetro\"\n",
    "    population = []\n",
    "    for i in range (_mu):\n",
    "        population.append(rd.sample(range(n), n))\n",
    "\n",
    "    return population\n"
   ]
  },
  {
   "cell_type": "code",
   "execution_count": 21,
   "metadata": {},
   "outputs": [],
   "source": [
    "def fitness_nq(solution):\n",
    "    \"\"\"Informa a quantidade de cheques em cada solução\"\"\"\n",
    "    xeques = 0\n",
    "    for i in range(0,len(solution)):\n",
    "        for j in range(0,len(solution)):\n",
    "            if i!=j:\n",
    "                if i-solution[i] == j-solution[j] or i+solution[i] == j+solution[j]:\n",
    "                    xeques+=1\n",
    "\n",
    "    return xeques"
   ]
  },
  {
   "cell_type": "code",
   "execution_count": 22,
   "metadata": {},
   "outputs": [],
   "source": [
    "crossover_rate = 1\n",
    "mutation_rate = 0.8 \n",
    "n_rainhas = 8\n",
    "tamanho_tabuleiro = 20\n",
    "\n",
    "pop = init_population(tamanho_tabuleiro, n_rainhas)\n",
    "# print(pop)\n",
    "\n",
    "# fitness_nq(pop[0])"
   ]
  },
  {
   "cell_type": "code",
   "execution_count": 23,
   "metadata": {},
   "outputs": [],
   "source": [
    "pop_fitness = [fitness_nq(each_solution) for each_solution in pop] # Gera o valor de cada solução\n",
    "\n",
    "# print(pop_fitness)"
   ]
  },
  {
   "cell_type": "code",
   "execution_count": 24,
   "metadata": {},
   "outputs": [],
   "source": [
    "def selection(pop: list, n_rainhas: int):\n",
    "    \"Retorna as duas melhores soluções (melhores fitness)\"\n",
    "    \n",
    "    pop_fitness = [fitness_nq(each_solution) for each_solution in pop]\n",
    "\n",
    "    min_xeques_1 = max(pop_fitness)\n",
    "    min_xeques_2 = min(pop_fitness)\n",
    "    position_2 = n_rainhas + 1\n",
    "\n",
    "    for i, num_xeques in enumerate(pop_fitness):\n",
    "        if num_xeques ==  min_xeques_2 and position_2 != i:\n",
    "            position_2 = i\n",
    "        elif num_xeques < min_xeques_1:\n",
    "            min_xeques_1 = num_xeques\n",
    "            position_1 = i\n",
    "            \n",
    "    melhores_2 = [pop[position_1], pop[position_2]]\n",
    "    return melhores_2"
   ]
  },
  {
   "cell_type": "code",
   "execution_count": 25,
   "metadata": {},
   "outputs": [
    {
     "data": {
      "text/plain": [
       "[[6, 2, 3, 0, 5, 7, 4, 1], [0, 6, 4, 2, 1, 3, 7, 5]]"
      ]
     },
     "execution_count": 25,
     "metadata": {},
     "output_type": "execute_result"
    }
   ],
   "source": [
    "selection(pop, n_rainhas)"
   ]
  },
  {
   "cell_type": "code",
   "execution_count": 26,
   "metadata": {},
   "outputs": [],
   "source": [
    "subset_parents = selection(pop, n_rainhas)"
   ]
  },
  {
   "cell_type": "code",
   "execution_count": 27,
   "metadata": {},
   "outputs": [],
   "source": [
    "def crossover(subset_parents, crossover_rate):\n",
    "    \"Retorna um subset (dois indivíduos filhos) como resultado do cruzamento dos pais\"\n",
    "    N = len(subset_parents[0])\n",
    "    offspring = np.zeros((2,8), dtype=int) # Matriz dos resultados\n",
    "    pos = math.floor(1+N*rd.random()) # Valor onde irá cortar\n",
    "    \n",
    "    # Fazendo a combinação entre os pais para gerar os filhos\n",
    "    offspring[0][0:pos] = subset_parents[0][0:pos]\n",
    "    offspring[1][0:pos] = subset_parents[1][0:pos]\n",
    "    \n",
    "    offspring = offspring.tolist()\n",
    "    \n",
    "    return offspring"
   ]
  },
  {
   "cell_type": "code",
   "execution_count": 28,
   "metadata": {},
   "outputs": [
    {
     "data": {
      "text/plain": [
       "[[6, 2, 3, 0, 5, 7, 4, 1], [0, 6, 4, 2, 1, 3, 7, 5]]"
      ]
     },
     "execution_count": 28,
     "metadata": {},
     "output_type": "execute_result"
    }
   ],
   "source": [
    "crossover(subset_parents, crossover_rate)"
   ]
  },
  {
   "cell_type": "code",
   "execution_count": 29,
   "metadata": {},
   "outputs": [],
   "source": [
    "def mutation(offspring, mutation_rate):\n",
    "    \"Retorna um subset (dois indivíduos) como resultado da mutação dos filhos\"\n",
    "    pass"
   ]
  },
  {
   "cell_type": "code",
   "execution_count": 76,
   "metadata": {},
   "outputs": [],
   "source": [
    "def replacement(offspring_new, pop):\n",
    "    \"Atualiza a lista de população, substituindo os dois piores individuos pelos dois que fazem parte do subset offspring new\"\n",
    "    pop_fitness = [fitness_nq(each_solution) for each_solution in pop]\n",
    "\n",
    "    first_min = min(pop_fitness)\n",
    "    index_first_min = 0\n",
    "\n",
    "    aux_pop = list(filter(lambda x: x != first_min, pop_fitness))\n",
    "\n",
    "    second_min = min(aux_pop)\n",
    "    index_second_min = 0\n",
    "\n",
    "    \n",
    "    for i,valor in enumerate(pop_fitness):\n",
    "        if valor == first_min and index_first_min ==0:\n",
    "            index_first_min =  i\n",
    "        elif valor == second_min and index_second_min ==0:\n",
    "            index_second_min = i\n",
    "    \n",
    "    pop[index_first_min]  = offspring_new[0]\n",
    "    pop[index_second_min] = offspring_new[1]\n",
    "\n",
    "    return pop"
   ]
  },
  {
   "cell_type": "code",
   "execution_count": 77,
   "metadata": {},
   "outputs": [
    {
     "name": "stdout",
     "output_type": "stream",
     "text": [
      "[[6, 2, 3, 0, 5, 7, 4, 1], [0, 6, 4, 2, 1, 3, 7, 5], [1, 3, 2, 0, 5, 7, 6, 4], [6, 3, 0, 7, 2, 1, 4, 5], [6, 3, 7, 4, 5, 1, 0, 2], [0, 6, 4, 2, 1, 0, 0, 0], [6, 2, 3, 0, 5, 7, 4, 1], [7, 6, 4, 2, 0, 3, 1, 5], [3, 2, 1, 0, 4, 6, 7, 5], [0, 4, 6, 3, 2, 1, 5, 7], [6, 2, 3, 0, 0, 0, 0, 0], [0, 1, 6, 3, 4, 2, 7, 5], [5, 3, 4, 7, 2, 1, 6, 0], [6, 2, 3, 0, 5, 0, 0, 0], [7, 1, 6, 5, 0, 2, 3, 4], [5, 7, 1, 6, 4, 3, 0, 2], [0, 2, 7, 6, 3, 4, 5, 1], [6, 3, 7, 5, 2, 4, 1, 0], [2, 5, 4, 7, 6, 0, 3, 1], [5, 3, 4, 6, 7, 2, 0, 1]]\n",
      "6\n",
      "[6, 2, 3, 0, 5, 7, 4, 1]\n"
     ]
    },
    {
     "data": {
      "text/plain": [
       "[[6, 2, 3, 0, 5, 7, 4, 1],\n",
       " [0, 6, 4, 2, 1, 3, 7, 5],\n",
       " [1, 3, 2, 0, 5, 7, 6, 4],\n",
       " [6, 3, 0, 7, 2, 1, 4, 5],\n",
       " [6, 3, 7, 4, 5, 1, 0, 2],\n",
       " [0, 6, 4, 2, 1, 0, 0, 0],\n",
       " [6, 2, 3, 0, 5, 7, 4, 1],\n",
       " [7, 6, 4, 2, 0, 3, 1, 5],\n",
       " [3, 2, 1, 0, 4, 6, 7, 5],\n",
       " [0, 4, 6, 3, 2, 1, 5, 7],\n",
       " [6, 2, 3, 0, 0, 0, 0, 0],\n",
       " [0, 1, 6, 3, 4, 2, 7, 5],\n",
       " [5, 3, 4, 7, 2, 1, 6, 0],\n",
       " [6, 2, 3, 0, 5, 0, 0, 0],\n",
       " [7, 1, 6, 5, 0, 2, 3, 4],\n",
       " [5, 7, 1, 6, 4, 3, 0, 2],\n",
       " [0, 2, 7, 6, 3, 4, 5, 1],\n",
       " [6, 3, 7, 5, 2, 4, 1, 0],\n",
       " [2, 5, 4, 7, 6, 0, 3, 1],\n",
       " [5, 3, 4, 6, 7, 2, 0, 1]]"
      ]
     },
     "execution_count": 77,
     "metadata": {},
     "output_type": "execute_result"
    }
   ],
   "source": [
    "replacement(crossover(subset_parents, crossover_rate), pop)"
   ]
  },
  {
   "cell_type": "code",
   "execution_count": 68,
   "metadata": {},
   "outputs": [
    {
     "name": "stdout",
     "output_type": "stream",
     "text": [
      "8\n",
      "4\n"
     ]
    }
   ],
   "source": [
    "pop_fitness = [fitness_nq(each_solution) for each_solution in pop]\n",
    "\n",
    "first_min = min(pop_fitness)\n",
    "index_first_min = 0\n",
    "\n",
    "aux_pop = list(filter(lambda x: x != first_min, pop_fitness))\n",
    "\n",
    "second_min = min(aux_pop)\n",
    "index_second_min = 0\n",
    "\n",
    "\n",
    "for i,valor in enumerate(pop_fitness):\n",
    "    if valor == first_min and index_first_min ==0:\n",
    "        index_first_min =  i\n",
    "    elif valor == second_min and index_second_min ==0:\n",
    "        index_second_min = i\n",
    "      \n",
    "    \n"
   ]
  },
  {
   "cell_type": "code",
   "execution_count": 60,
   "metadata": {},
   "outputs": [
    {
     "ename": "NameError",
     "evalue": "name 'i_geracoes' is not defined",
     "output_type": "error",
     "traceback": [
      "\u001b[1;31m---------------------------------------------------------------------------\u001b[0m",
      "\u001b[1;31mNameError\u001b[0m                                 Traceback (most recent call last)",
      "\u001b[1;32m<ipython-input-60-f762e643515b>\u001b[0m in \u001b[0;36m<module>\u001b[1;34m\u001b[0m\n\u001b[1;32m----> 1\u001b[1;33m \u001b[1;32mwhile\u001b[0m \u001b[0mi_geracoes\u001b[0m \u001b[1;33m<=\u001b[0m \u001b[0mnum_epochs\u001b[0m \u001b[1;32mand\u001b[0m \u001b[0mfitness_best\u001b[0m\u001b[1;33m(\u001b[0m\u001b[0mi_geracoes\u001b[0m\u001b[1;33m)\u001b[0m \u001b[1;33m!=\u001b[0m \u001b[1;36m0\u001b[0m\u001b[1;33m:\u001b[0m\u001b[1;33m\u001b[0m\u001b[1;33m\u001b[0m\u001b[0m\n\u001b[0m\u001b[0;32m      2\u001b[0m     \u001b[0msubset_parents\u001b[0m \u001b[1;33m=\u001b[0m \u001b[0mselection\u001b[0m\u001b[1;33m(\u001b[0m\u001b[0mpop\u001b[0m\u001b[1;33m)\u001b[0m\u001b[1;33m\u001b[0m\u001b[1;33m\u001b[0m\u001b[0m\n\u001b[0;32m      3\u001b[0m     \u001b[0moffspring\u001b[0m \u001b[1;33m=\u001b[0m \u001b[0mcrossover\u001b[0m\u001b[1;33m(\u001b[0m\u001b[0msubset_parents\u001b[0m\u001b[1;33m,\u001b[0m \u001b[0mcrossover_rate\u001b[0m\u001b[1;33m)\u001b[0m\u001b[1;33m\u001b[0m\u001b[1;33m\u001b[0m\u001b[0m\n\u001b[0;32m      4\u001b[0m     \u001b[0moffspring_new\u001b[0m \u001b[1;33m=\u001b[0m \u001b[0mmutation\u001b[0m\u001b[1;33m(\u001b[0m\u001b[0moffspring\u001b[0m\u001b[1;33m,\u001b[0m \u001b[0mmutation_rate\u001b[0m\u001b[1;33m)\u001b[0m\u001b[1;33m\u001b[0m\u001b[1;33m\u001b[0m\u001b[0m\n\u001b[0;32m      5\u001b[0m     \u001b[0mpop\u001b[0m \u001b[1;33m=\u001b[0m \u001b[0mreplacement\u001b[0m\u001b[1;33m(\u001b[0m\u001b[0moffspring_new\u001b[0m\u001b[1;33m,\u001b[0m \u001b[0mpop\u001b[0m\u001b[1;33m)\u001b[0m\u001b[1;33m\u001b[0m\u001b[1;33m\u001b[0m\u001b[0m\n",
      "\u001b[1;31mNameError\u001b[0m: name 'i_geracoes' is not defined"
     ]
    }
   ],
   "source": [
    "while i_geracoes <= num_epochs and fitness_best(i_geracoes) != 0:\n",
    "    subset_parents = selection(pop)\n",
    "    offspring = crossover(subset_parents, crossover_rate)\n",
    "    offspring_new = mutation(offspring, mutation_rate)\n",
    "    pop = replacement(offspring_new, pop)\n",
    "    fitness_best, fitness_mean = evalution(pop)"
   ]
  },
  {
   "cell_type": "code",
   "execution_count": null,
   "metadata": {},
   "outputs": [],
   "source": []
  }
 ],
 "metadata": {
  "kernelspec": {
   "display_name": "Python 3",
   "language": "python",
   "name": "python3"
  },
  "language_info": {
   "codemirror_mode": {
    "name": "ipython",
    "version": 3
   },
   "file_extension": ".py",
   "mimetype": "text/x-python",
   "name": "python",
   "nbconvert_exporter": "python",
   "pygments_lexer": "ipython3",
   "version": "3.9.5"
  }
 },
 "nbformat": 4,
 "nbformat_minor": 4
}
