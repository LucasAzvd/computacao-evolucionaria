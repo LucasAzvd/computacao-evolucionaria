{
 "cells": [
  {
   "cell_type": "code",
   "execution_count": 23,
   "metadata": {},
   "outputs": [],
   "source": [
    "import random as rd\n",
    "import numpy as np\n",
    "import math"
   ]
  },
  {
   "cell_type": "code",
   "execution_count": 2,
   "metadata": {},
   "outputs": [],
   "source": [
    "num_epochs = 10"
   ]
  },
  {
   "cell_type": "code",
   "execution_count": 3,
   "metadata": {},
   "outputs": [],
   "source": [
    "def init_population(_mu:int = 20, n:int = 8):\n",
    "    \"Inicia uma população com o tamanho das peças do tabuleiro e a quantidade de rainhas como parâmetro\"\n",
    "    population = []\n",
    "    for i in range (_mu):\n",
    "        population.append(rd.sample(range(n), n))\n",
    "\n",
    "    return population\n"
   ]
  },
  {
   "cell_type": "code",
   "execution_count": 4,
   "metadata": {},
   "outputs": [],
   "source": [
    "def fitness_nq(solution):\n",
    "    \"\"\"Informa a quantidade de cheques em cada solução\"\"\"\n",
    "    xeques = 0\n",
    "    for i in range(0,len(solution)):\n",
    "        for j in range(0,len(solution)):\n",
    "            if i!=j:\n",
    "                if i-solution[i] == j-solution[j] or i+solution[i] == j+solution[j]:\n",
    "                    xeques+=1\n",
    "\n",
    "    return xeques"
   ]
  },
  {
   "cell_type": "code",
   "execution_count": 5,
   "metadata": {},
   "outputs": [],
   "source": [
    "crossover_rate = 1\n",
    "mutation_rate = 0.8 \n",
    "n_rainhas = 8\n",
    "tamanho_tabuleiro = 20\n",
    "\n",
    "pop = init_population(tamanho_tabuleiro, n_rainhas)\n",
    "# print(pop)\n",
    "\n",
    "# fitness_nq(pop[0])"
   ]
  },
  {
   "cell_type": "code",
   "execution_count": 6,
   "metadata": {},
   "outputs": [],
   "source": [
    "pop_fitness = [fitness_nq(each_solution) for each_solution in pop] # Gera o valor de cada solução\n",
    "\n",
    "# print(pop_fitness)"
   ]
  },
  {
   "cell_type": "code",
   "execution_count": 129,
   "metadata": {},
   "outputs": [],
   "source": [
    "def selection(pop: list, n_rainhas: int):\n",
    "    \"Retorna as duas melhores soluções (melhores fitness)\"\n",
    "    \n",
    "    pop_fitness = [fitness_nq(each_solution) for each_solution in pop]\n",
    "\n",
    "    min_xeques_1 = max(pop_fitness)\n",
    "    min_xeques_2 = min(pop_fitness)\n",
    "    position_2 = n_rainhas + 1\n",
    "\n",
    "    for i, num_xeques in enumerate(pop_fitness):\n",
    "        if num_xeques ==  min_xeques_2 and position_2 != i:\n",
    "            position_2 = i\n",
    "        elif num_xeques < min_xeques_1:\n",
    "            min_xeques_1 = num_xeques\n",
    "            position_1 = i\n",
    "            \n",
    "    melhores_2 = [pop[position_1], pop[position_2]]\n",
    "    return melhores_2"
   ]
  },
  {
   "cell_type": "code",
   "execution_count": 130,
   "metadata": {},
   "outputs": [
    {
     "data": {
      "text/plain": [
       "[[6, 4, 3, 0, 2, 7, 5, 1], [5, 7, 2, 0, 6, 4, 1, 3]]"
      ]
     },
     "execution_count": 130,
     "metadata": {},
     "output_type": "execute_result"
    }
   ],
   "source": [
    "selection(pop, n_rainhas)"
   ]
  },
  {
   "cell_type": "code",
   "execution_count": 131,
   "metadata": {},
   "outputs": [],
   "source": [
    "subset_parents = selection(pop, n_rainhas)"
   ]
  },
  {
   "cell_type": "code",
   "execution_count": 141,
   "metadata": {},
   "outputs": [],
   "source": [
    "def crossover(subset_parents, crossover_rate):\n",
    "    \"Retorna um subset (dois indivíduos filhos) como resultado do cruzamento dos pais\"\n",
    "    N = len(subset_parents[0])\n",
    "    offspring = np.zeros((2,8), dtype=int) # Matriz dos resultados\n",
    "    pos = math.floor(1+N*rd.random()) # Valor onde irá cortar\n",
    "    \n",
    "    # Fazendo a combinação entre os pais para gerar os filhos\n",
    "    offspring[0][0:pos] = subset_parents[0][0:pos]\n",
    "    offspring[1][0:pos] = subset_parents[1][0:pos]\n",
    "    \n",
    "    offspring = offspring.tolist()\n",
    "    \n",
    "#     s1 = pos+1\n",
    "#     s2 = pos+1\n",
    "#     for i in range(N):\n",
    "#         check1 = 0\n",
    "#         check2 = 0\n",
    "\n",
    "#         for j in range(pos):\n",
    "#             if subset_parents[1][i] == offspring[0][j]:\n",
    "#                 check1 = 1\n",
    "#             if subset_parents[0][i] == offspring[1][j]:\n",
    "#                 check2 = 1\n",
    "#         if check1 == 0:\n",
    "#             offspring[0][s1]= subset_parents[1][i]\n",
    "#             s1 = s1 + 1\n",
    "#         if check2 == 0:\n",
    "#             offspring[1][s2]= subset_parents[0][i]\n",
    "#             s2 = s2 + 1\n",
    "    return offspring"
   ]
  },
  {
   "cell_type": "code",
   "execution_count": 140,
   "metadata": {},
   "outputs": [
    {
     "data": {
      "text/plain": [
       "[[6, 4, 3, 0, 2, 0, 0, 0], [5, 7, 2, 0, 6, 0, 0, 0]]"
      ]
     },
     "execution_count": 140,
     "metadata": {},
     "output_type": "execute_result"
    }
   ],
   "source": [
    "crossover(subset_parents, crossover_rate)"
   ]
  },
  {
   "cell_type": "code",
   "execution_count": 125,
   "metadata": {},
   "outputs": [],
   "source": [
    "def mutation(offspring, mutation_rate):\n",
    "    \"Retorna um subset (dois indivíduos) como resultado da mutação dos filhos\"\n",
    "    pass"
   ]
  },
  {
   "cell_type": "code",
   "execution_count": 11,
   "metadata": {},
   "outputs": [],
   "source": [
    "def replacement(offspring_new, pop):\n",
    "    \"Atualiza a lista de população, substituindo os dois piores individuos pelos dois que fazem parte do subset offspring new\"\n",
    "    pass"
   ]
  },
  {
   "cell_type": "code",
   "execution_count": 12,
   "metadata": {},
   "outputs": [
    {
     "ename": "NameError",
     "evalue": "name 'i_geracoes' is not defined",
     "output_type": "error",
     "traceback": [
      "\u001b[1;31m---------------------------------------------------------------------------\u001b[0m",
      "\u001b[1;31mNameError\u001b[0m                                 Traceback (most recent call last)",
      "\u001b[1;32m<ipython-input-12-f762e643515b>\u001b[0m in \u001b[0;36m<module>\u001b[1;34m\u001b[0m\n\u001b[1;32m----> 1\u001b[1;33m \u001b[1;32mwhile\u001b[0m \u001b[0mi_geracoes\u001b[0m \u001b[1;33m<=\u001b[0m \u001b[0mnum_epochs\u001b[0m \u001b[1;32mand\u001b[0m \u001b[0mfitness_best\u001b[0m\u001b[1;33m(\u001b[0m\u001b[0mi_geracoes\u001b[0m\u001b[1;33m)\u001b[0m \u001b[1;33m!=\u001b[0m \u001b[1;36m0\u001b[0m\u001b[1;33m:\u001b[0m\u001b[1;33m\u001b[0m\u001b[1;33m\u001b[0m\u001b[0m\n\u001b[0m\u001b[0;32m      2\u001b[0m     \u001b[0msubset_parents\u001b[0m \u001b[1;33m=\u001b[0m \u001b[0mselection\u001b[0m\u001b[1;33m(\u001b[0m\u001b[0mpop\u001b[0m\u001b[1;33m)\u001b[0m\u001b[1;33m\u001b[0m\u001b[1;33m\u001b[0m\u001b[0m\n\u001b[0;32m      3\u001b[0m     \u001b[0moffspring\u001b[0m \u001b[1;33m=\u001b[0m \u001b[0mcrossover\u001b[0m\u001b[1;33m(\u001b[0m\u001b[0msubset_parents\u001b[0m\u001b[1;33m,\u001b[0m \u001b[0mcrossover_rate\u001b[0m\u001b[1;33m)\u001b[0m\u001b[1;33m\u001b[0m\u001b[1;33m\u001b[0m\u001b[0m\n\u001b[0;32m      4\u001b[0m     \u001b[0moffspring_new\u001b[0m \u001b[1;33m=\u001b[0m \u001b[0mmutation\u001b[0m\u001b[1;33m(\u001b[0m\u001b[0moffspring\u001b[0m\u001b[1;33m,\u001b[0m \u001b[0mmutation_rate\u001b[0m\u001b[1;33m)\u001b[0m\u001b[1;33m\u001b[0m\u001b[1;33m\u001b[0m\u001b[0m\n\u001b[0;32m      5\u001b[0m     \u001b[0mpop\u001b[0m \u001b[1;33m=\u001b[0m \u001b[0mreplacement\u001b[0m\u001b[1;33m(\u001b[0m\u001b[0moffspring_new\u001b[0m\u001b[1;33m,\u001b[0m \u001b[0mpop\u001b[0m\u001b[1;33m)\u001b[0m\u001b[1;33m\u001b[0m\u001b[1;33m\u001b[0m\u001b[0m\n",
      "\u001b[1;31mNameError\u001b[0m: name 'i_geracoes' is not defined"
     ]
    }
   ],
   "source": [
    "while i_geracoes <= num_epochs and fitness_best(i_geracoes) != 0:\n",
    "    subset_parents = selection(pop)\n",
    "    offspring = crossover(subset_parents, crossover_rate)\n",
    "    offspring_new = mutation(offspring, mutation_rate)\n",
    "    pop = replacement(offspring_new, pop)\n",
    "    fitness_best, fitness_mean = evalution(pop)"
   ]
  },
  {
   "cell_type": "code",
   "execution_count": null,
   "metadata": {},
   "outputs": [],
   "source": []
  }
 ],
 "metadata": {
  "kernelspec": {
   "display_name": "Python 3",
   "language": "python",
   "name": "python3"
  },
  "language_info": {
   "codemirror_mode": {
    "name": "ipython",
    "version": 3
   },
   "file_extension": ".py",
   "mimetype": "text/x-python",
   "name": "python",
   "nbconvert_exporter": "python",
   "pygments_lexer": "ipython3",
   "version": "3.9.5"
  }
 },
 "nbformat": 4,
 "nbformat_minor": 4
}
