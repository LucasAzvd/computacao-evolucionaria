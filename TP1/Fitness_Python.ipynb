{
 "cells": [
  {
   "cell_type": "code",
   "execution_count": 25,
   "metadata": {},
   "outputs": [],
   "source": [
    "import random as rd\n",
    "import numpy as np\n",
    "import math"
   ]
  },
  {
   "cell_type": "code",
   "execution_count": 27,
   "metadata": {},
   "outputs": [],
   "source": [
    "def init_population(_mu:int = 20, n:int = 8):\n",
    "    \"Inicia uma população com o tamanho das peças do tabuleiro e a quantidade de rainhas como parâmetro\"\n",
    "    population = []\n",
    "    for i in range (_mu):\n",
    "        population.append(rd.sample(range(n), n))\n",
    "\n",
    "    return population\n"
   ]
  },
  {
   "cell_type": "code",
   "execution_count": 28,
   "metadata": {},
   "outputs": [],
   "source": [
    "def fitness_nq(solution):\n",
    "    \"\"\"Informa a quantidade de cheques em cada solução\"\"\"\n",
    "    xeques = 0\n",
    "    for i in range(0,len(solution)):\n",
    "        for j in range(0,len(solution)):\n",
    "            if i!=j:\n",
    "                if i-solution[i] == j-solution[j] or i+solution[i] == j+solution[j]:\n",
    "                    xeques+=1\n",
    "\n",
    "    return xeques"
   ]
  },
  {
   "cell_type": "code",
   "execution_count": 6,
   "metadata": {},
   "outputs": [],
   "source": [
    "pop_fitness = [fitness_nq(each_solution) for each_solution in pop] # Gera o valor de cada solução"
   ]
  },
  {
   "cell_type": "code",
   "execution_count": 7,
   "metadata": {},
   "outputs": [],
   "source": [
    "def selection(pop: list, n_rainhas: int):\n",
    "    \"Retorna as duas melhores soluções (melhores fitness)\"\n",
    "    \n",
    "    pop_fitness = [fitness_nq(each_solution) for each_solution in pop]\n",
    "\n",
    "    min_xeques_1 = max(pop_fitness)\n",
    "    min_xeques_2 = min(pop_fitness)\n",
    "    position_2 = n_rainhas + 1\n",
    "\n",
    "    for i, num_xeques in enumerate(pop_fitness):\n",
    "        if num_xeques ==  min_xeques_2 and position_2 != i:\n",
    "            position_2 = i\n",
    "        elif num_xeques < min_xeques_1:\n",
    "            min_xeques_1 = num_xeques\n",
    "            position_1 = i\n",
    "            \n",
    "    melhores_2 = [pop[position_1], pop[position_2]]\n",
    "    return melhores_2"
   ]
  },
  {
   "cell_type": "code",
   "execution_count": 9,
   "metadata": {},
   "outputs": [],
   "source": [
    "def crossover(subset_parents, crossover_rate):\n",
    "    \"Retorna um subset (dois indivíduos filhos) como resultado do cruzamento dos pais\"\n",
    "    N = len(subset_parents[0])\n",
    "    offspring = np.zeros((2,8), dtype=int) # Matriz dos resultados\n",
    "    pos = math.floor(1+N*crossover_rate) # Valor onde irá cortar\n",
    "    \n",
    "    # Fazendo a combinação entre os pais para gerar os filhos\n",
    "    offspring[0][0:pos] = subset_parents[0][0:pos]\n",
    "    offspring[0][pos:] = subset_parents[1][pos:]\n",
    "\n",
    "    offspring[1][0:pos] = subset_parents[1][0:pos]\n",
    "    offspring[1][pos:] = subset_parents[0][pos:]\n",
    "    \n",
    "    offspring = offspring.tolist()\n",
    "    \n",
    "    return offspring"
   ]
  },
  {
   "cell_type": "code",
   "execution_count": 30,
   "metadata": {},
   "outputs": [],
   "source": [
    "def mutation(offspring, mutation_rate):\n",
    "    \"Retorna um subset (dois indivíduos) como resultado da mutação dos filhos\"\n",
    "    pass"
   ]
  },
  {
   "cell_type": "code",
   "execution_count": 31,
   "metadata": {},
   "outputs": [],
   "source": [
    "def replacement(offspring_new, pop):\n",
    "    \"Atualiza a lista de população, substituindo os dois piores individuos pelos dois que fazem parte do subset offspring new\"\n",
    "    pop_fitness = [fitness_nq(each_solution) for each_solution in pop]\n",
    "    print(pop_fitness)\n",
    "    first_min = max(pop_fitness)\n",
    "    index_first_min = 0\n",
    "\n",
    "    aux_pop = list(filter(lambda x: x != first_min, pop_fitness))\n",
    "\n",
    "    second_min = max(aux_pop)\n",
    "    index_second_min = 0\n",
    "\n",
    "    \n",
    "    for i,valor in enumerate(pop_fitness):\n",
    "        if valor == first_min and index_first_min ==0:\n",
    "            index_first_min =  i\n",
    "        elif valor == second_min and index_second_min ==0:\n",
    "            index_second_min = i\n",
    "    \n",
    "    pop[index_first_min]  = offspring_new[0]\n",
    "    pop[index_second_min] = offspring_new[1]\n",
    "\n",
    "    return pop"
   ]
  },
  {
   "cell_type": "code",
   "execution_count": 33,
   "metadata": {},
   "outputs": [],
   "source": [
    "def evalution(pop: list):\n",
    "    \"Retorna o melhor resultado e a média de xeques\"\n",
    "    pop_fitness = [fitness_nq(each_solution) for each_solution in pop]\n",
    "    fitness_best = min(pop_fitness)\n",
    "    fitness_mean = np.mean(pop_fitness)\n",
    "    return fitness_best, fitness_mean"
   ]
  },
  {
   "cell_type": "code",
   "execution_count": 37,
   "metadata": {},
   "outputs": [
    {
     "name": "stdout",
     "output_type": "stream",
     "text": [
      "[12, 12, 10, 6, 12, 4, 14, 12, 12, 14, 16, 12, 4, 8, 12, 18, 18, 10, 10, 8]\n"
     ]
    },
    {
     "ename": "TypeError",
     "evalue": "'NoneType' object is not subscriptable",
     "output_type": "error",
     "traceback": [
      "\u001b[1;31m---------------------------------------------------------------------------\u001b[0m",
      "\u001b[1;31mTypeError\u001b[0m                                 Traceback (most recent call last)",
      "\u001b[1;32m<ipython-input-37-2a2eed199a08>\u001b[0m in \u001b[0;36m<module>\u001b[1;34m\u001b[0m\n\u001b[0;32m     14\u001b[0m     \u001b[0moffspring\u001b[0m \u001b[1;33m=\u001b[0m \u001b[0mcrossover\u001b[0m\u001b[1;33m(\u001b[0m\u001b[0msubset_parents\u001b[0m\u001b[1;33m,\u001b[0m \u001b[0mcrossover_rate\u001b[0m\u001b[1;33m)\u001b[0m\u001b[1;33m\u001b[0m\u001b[1;33m\u001b[0m\u001b[0m\n\u001b[0;32m     15\u001b[0m     \u001b[0moffspring_new\u001b[0m \u001b[1;33m=\u001b[0m \u001b[0mmutation\u001b[0m\u001b[1;33m(\u001b[0m\u001b[0moffspring\u001b[0m\u001b[1;33m,\u001b[0m \u001b[0mmutation_rate\u001b[0m\u001b[1;33m)\u001b[0m\u001b[1;33m\u001b[0m\u001b[1;33m\u001b[0m\u001b[0m\n\u001b[1;32m---> 16\u001b[1;33m     \u001b[0mpop\u001b[0m \u001b[1;33m=\u001b[0m \u001b[0mreplacement\u001b[0m\u001b[1;33m(\u001b[0m\u001b[0moffspring_new\u001b[0m\u001b[1;33m,\u001b[0m \u001b[0mpop\u001b[0m\u001b[1;33m)\u001b[0m\u001b[1;33m\u001b[0m\u001b[1;33m\u001b[0m\u001b[0m\n\u001b[0m\u001b[0;32m     17\u001b[0m     \u001b[0mfitness_best\u001b[0m\u001b[1;33m,\u001b[0m \u001b[0mfitness_mean\u001b[0m \u001b[1;33m=\u001b[0m \u001b[0mevalution\u001b[0m\u001b[1;33m(\u001b[0m\u001b[0mpop\u001b[0m\u001b[1;33m)\u001b[0m\u001b[1;33m\u001b[0m\u001b[1;33m\u001b[0m\u001b[0m\n\u001b[0;32m     18\u001b[0m     \u001b[0mprint\u001b[0m\u001b[1;33m(\u001b[0m\u001b[0mfitness_best\u001b[0m\u001b[1;33m,\u001b[0m \u001b[0mfitness_mean\u001b[0m\u001b[1;33m)\u001b[0m\u001b[1;33m\u001b[0m\u001b[1;33m\u001b[0m\u001b[0m\n",
      "\u001b[1;32m<ipython-input-31-52936aafb3a2>\u001b[0m in \u001b[0;36mreplacement\u001b[1;34m(offspring_new, pop)\u001b[0m\n\u001b[0;32m     18\u001b[0m             \u001b[0mindex_second_min\u001b[0m \u001b[1;33m=\u001b[0m \u001b[0mi\u001b[0m\u001b[1;33m\u001b[0m\u001b[1;33m\u001b[0m\u001b[0m\n\u001b[0;32m     19\u001b[0m \u001b[1;33m\u001b[0m\u001b[0m\n\u001b[1;32m---> 20\u001b[1;33m     \u001b[0mpop\u001b[0m\u001b[1;33m[\u001b[0m\u001b[0mindex_first_min\u001b[0m\u001b[1;33m]\u001b[0m  \u001b[1;33m=\u001b[0m \u001b[0moffspring_new\u001b[0m\u001b[1;33m[\u001b[0m\u001b[1;36m0\u001b[0m\u001b[1;33m]\u001b[0m\u001b[1;33m\u001b[0m\u001b[1;33m\u001b[0m\u001b[0m\n\u001b[0m\u001b[0;32m     21\u001b[0m     \u001b[0mpop\u001b[0m\u001b[1;33m[\u001b[0m\u001b[0mindex_second_min\u001b[0m\u001b[1;33m]\u001b[0m \u001b[1;33m=\u001b[0m \u001b[0moffspring_new\u001b[0m\u001b[1;33m[\u001b[0m\u001b[1;36m1\u001b[0m\u001b[1;33m]\u001b[0m\u001b[1;33m\u001b[0m\u001b[1;33m\u001b[0m\u001b[0m\n\u001b[0;32m     22\u001b[0m \u001b[1;33m\u001b[0m\u001b[0m\n",
      "\u001b[1;31mTypeError\u001b[0m: 'NoneType' object is not subscriptable"
     ]
    }
   ],
   "source": [
    "i_geracoes = 0\n",
    "\n",
    "crossover_rate = 0.5\n",
    "mutation_rate = 0.8 \n",
    "n_rainhas = 8\n",
    "tamanho_tabuleiro = 20\n",
    "num_epochs = 10\n",
    "fitness_best = None\n",
    "\n",
    "pop = init_population(tamanho_tabuleiro, n_rainhas)\n",
    "\n",
    "while i_geracoes <= num_epochs and fitness_best != 0:\n",
    "    subset_parents = selection(pop, n_rainhas)\n",
    "    offspring = crossover(subset_parents, crossover_rate)\n",
    "    offspring_new = mutation(offspring, mutation_rate)\n",
    "    pop = replacement(offspring_new, pop)\n",
    "    fitness_best, fitness_mean = evalution(pop)\n",
    "    print(fitness_best, fitness_mean)\n",
    "    i_geracoes += 1\n",
    "    "
   ]
  },
  {
   "cell_type": "code",
   "execution_count": null,
   "metadata": {},
   "outputs": [],
   "source": []
  }
 ],
 "metadata": {
  "kernelspec": {
   "display_name": "Python 3",
   "language": "python",
   "name": "python3"
  },
  "language_info": {
   "codemirror_mode": {
    "name": "ipython",
    "version": 3
   },
   "file_extension": ".py",
   "mimetype": "text/x-python",
   "name": "python",
   "nbconvert_exporter": "python",
   "pygments_lexer": "ipython3",
   "version": "3.8.11"
  }
 },
 "nbformat": 4,
 "nbformat_minor": 4
}
